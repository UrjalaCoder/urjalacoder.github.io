{
 "cells": [
  {
   "cell_type": "markdown",
   "metadata": {
    "application/vnd.databricks.v1+cell": {
     "cellMetadata": {},
     "inputWidgets": {},
     "nuid": "e59a7682-f58b-4ce5-8323-b1e5895225ac",
     "showTitle": false,
     "title": ""
    }
   },
   "source": [
    "\n",
    "# Introduction\n",
    "\n",
    "In this notebook we will cluster and project research article embeddings. The end result is a model which we can use to visualize different clusters in the article space. "
   ]
  },
  {
   "cell_type": "code",
   "execution_count": 0,
   "metadata": {
    "application/vnd.databricks.v1+cell": {
     "cellMetadata": {
      "byteLimit": 2048000,
      "rowLimit": 10000
     },
     "inputWidgets": {},
     "nuid": "1db6e14a-e9d9-42a5-819a-4d6dfdb5a520",
     "showTitle": false,
     "title": ""
    }
   },
   "outputs": [
    {
     "output_type": "display_data",
     "data": {
      "text/plain": [
       "238300"
      ]
     },
     "metadata": {},
     "output_type": "display_data"
    }
   ],
   "source": [
    "df = spark.read.table(\"main.default.ARXIV\")\n",
    "sample_fraction = 0.1\n",
    "df = df.sample(sample_fraction)\n",
    "display(df.count())"
   ]
  },
  {
   "cell_type": "code",
   "execution_count": 0,
   "metadata": {
    "application/vnd.databricks.v1+cell": {
     "cellMetadata": {
      "byteLimit": 2048000,
      "rowLimit": 10000
     },
     "inputWidgets": {},
     "nuid": "f693da9c-928c-402f-aa79-2c9f987f71f6",
     "showTitle": false,
     "title": ""
    }
   },
   "outputs": [
    {
     "output_type": "display_data",
     "data": {
      "text/html": [
       "<style scoped>\n",
       "  .table-result-container {\n",
       "    max-height: 300px;\n",
       "    overflow: auto;\n",
       "  }\n",
       "  table, th, td {\n",
       "    border: 1px solid black;\n",
       "    border-collapse: collapse;\n",
       "  }\n",
       "  th, td {\n",
       "    padding: 5px;\n",
       "  }\n",
       "  th {\n",
       "    text-align: left;\n",
       "  }\n",
       "</style><div class='table-result-container'><table class='table-result'><thead style='background-color: white'><tr><th>abstract</th><th>authors_parsed</th><th>categories</th><th>id</th><th>submitter</th><th>title</th><th>update_date</th><th>year</th></tr></thead><tbody><tr><td>  Imitation learning holds great promise for addressing the complex task of\n",
       "autonomous urban driving, as experienced human drivers can navigate highly\n",
       "challenging scenarios with ease. While behavior cloning is a widely used\n",
       "imitation learning approach in autonomous driving due to its exemption from\n",
       "risky online interactions, it suffers from the covariate shift issue. To\n",
       "address this limitation, we propose a context-conditioned imitation learning\n",
       "approach that employs a policy to map the context state into the ego vehicle's\n",
       "future trajectory, rather than relying on the traditional formulation of both\n",
       "ego and context states to predict the ego action. Additionally, to reduce the\n",
       "implicit ego information in the coordinate system, we design an ego-perturbed\n",
       "goal-oriented coordinate system. The origin of this coordinate system is the\n",
       "ego vehicle's position plus a zero mean Gaussian perturbation, and the x-axis\n",
       "direction points towards its goal position. Our experiments on the real-world\n",
       "large-scale Lyft and nuPlan datasets show that our method significantly\n",
       "outperforms state-of-the-art approaches.\n",
       "</td><td>List(List(Guo, Ke, ), List(Jing, Wei, ), List(Chen, Junbo, ), List(Pan, Jia, ))</td><td>cs.RO</td><td>2305.02649</td><td>Ke Guo</td><td>CCIL: Context-conditioned imitation learning for urban driving</td><td>2023-05-05</td><td>2023</td></tr><tr><td>  Controllable image captioning is an emerging multimodal topic that aims to\n",
       "describe the image with natural language following human purpose,\n",
       "$\\textit{e.g.}$, looking at the specified regions or telling in a particular\n",
       "text style. State-of-the-art methods are trained on annotated pairs of input\n",
       "controls and output captions. However, the scarcity of such well-annotated\n",
       "multimodal data largely limits their usability and scalability for interactive\n",
       "AI systems. Leveraging unimodal instruction-following foundation models is a\n",
       "promising alternative that benefits from broader sources of data. In this\n",
       "paper, we present Caption AnyThing (CAT), a foundation model augmented image\n",
       "captioning framework supporting a wide range of multimodel controls: 1) visual\n",
       "controls, including points, boxes, and trajectories; 2) language controls, such\n",
       "as sentiment, length, language, and factuality. Powered by Segment Anything\n",
       "Model (SAM) and ChatGPT, we unify the visual and language prompts into a\n",
       "modularized framework, enabling the flexible combination between different\n",
       "controls. Extensive case studies demonstrate the user intention alignment\n",
       "capabilities of our framework, shedding light on effective user interaction\n",
       "modeling in vision-language applications. Our code is publicly available at\n",
       "https://github.com/ttengwang/Caption-Anything.\n",
       "</td><td>List(List(Wang, Teng, ), List(Zhang, Jinrui, ), List(Fei, Junjie, ), List(Zheng, Hao, ), List(Tang, Yunlong, ), List(Li, Zhe, ), List(Gao, Mingqi, ), List(Zhao, Shanshan, ))</td><td>cs.CV</td><td>2305.02677</td><td>Teng Wang</td><td>Caption Anything: Interactive Image Description with Diverse Multimodal\n",
       "  Controls</td><td>2023-07-07</td><td>2023</td></tr><tr><td>  In this paper, we study row graphs of Toeplitz matrices. The notion of row\n",
       "graphs was introduced by Greenberg et al. in 1984 and is closely related to the\n",
       "notion of competition graphs, which has been extensively studied since Cohen\n",
       "had introduced it in 1968.\n",
       "  To understand the structure of the row graphs of Toeplitz matrices, which\n",
       "seem to be quite complicated, we have begun with Toeplitz matrices whose row\n",
       "graphs are triangle-free. We could show that if the row graph G of a Toeplitz\n",
       "matrix T is triangle-free, then T has the maximum row sum at most 2.\n",
       "Furthermore, it turns out that G is a disjoint union of paths and cycles whose\n",
       "lengths cannot vary that much in such a case. Then we study (0, 1)-Toeplitz\n",
       "matrices whose row graphs have only path components, only cycle components, and\n",
       "a cycle component of specific length, respectively. In particular, we\n",
       "completely characterize a (0, 1)-Toeplitz matrix whose row graph is a cycle.\n",
       "</td><td>List(List(Cheon, Gi-Sang, ), List(Kang, Bumtle, ), List(Kim, Suh-Ryung, ), List(Ryu, Homoon, ))</td><td>math.CO</td><td>2305.02690</td><td>Bumtle Kang</td><td>Row graphs of Toeplitz matrices</td><td>2023-05-05</td><td>2023</td></tr></tbody></table></div>"
      ]
     },
     "metadata": {
      "application/vnd.databricks.v1+output": {
       "addedWidgets": {},
       "aggData": [],
       "aggError": "",
       "aggOverflow": false,
       "aggSchema": [],
       "aggSeriesLimitReached": false,
       "aggType": "",
       "arguments": {},
       "columnCustomDisplayInfos": {},
       "data": [
        [
         "  Imitation learning holds great promise for addressing the complex task of\nautonomous urban driving, as experienced human drivers can navigate highly\nchallenging scenarios with ease. While behavior cloning is a widely used\nimitation learning approach in autonomous driving due to its exemption from\nrisky online interactions, it suffers from the covariate shift issue. To\naddress this limitation, we propose a context-conditioned imitation learning\napproach that employs a policy to map the context state into the ego vehicle's\nfuture trajectory, rather than relying on the traditional formulation of both\nego and context states to predict the ego action. Additionally, to reduce the\nimplicit ego information in the coordinate system, we design an ego-perturbed\ngoal-oriented coordinate system. The origin of this coordinate system is the\nego vehicle's position plus a zero mean Gaussian perturbation, and the x-axis\ndirection points towards its goal position. Our experiments on the real-world\nlarge-scale Lyft and nuPlan datasets show that our method significantly\noutperforms state-of-the-art approaches.\n",
         [
          [
           "Guo",
           "Ke",
           ""
          ],
          [
           "Jing",
           "Wei",
           ""
          ],
          [
           "Chen",
           "Junbo",
           ""
          ],
          [
           "Pan",
           "Jia",
           ""
          ]
         ],
         "cs.RO",
         "2305.02649",
         "Ke Guo",
         "CCIL: Context-conditioned imitation learning for urban driving",
         "2023-05-05",
         2023
        ],
        [
         "  Controllable image captioning is an emerging multimodal topic that aims to\ndescribe the image with natural language following human purpose,\n$\\textit{e.g.}$, looking at the specified regions or telling in a particular\ntext style. State-of-the-art methods are trained on annotated pairs of input\ncontrols and output captions. However, the scarcity of such well-annotated\nmultimodal data largely limits their usability and scalability for interactive\nAI systems. Leveraging unimodal instruction-following foundation models is a\npromising alternative that benefits from broader sources of data. In this\npaper, we present Caption AnyThing (CAT), a foundation model augmented image\ncaptioning framework supporting a wide range of multimodel controls: 1) visual\ncontrols, including points, boxes, and trajectories; 2) language controls, such\nas sentiment, length, language, and factuality. Powered by Segment Anything\nModel (SAM) and ChatGPT, we unify the visual and language prompts into a\nmodularized framework, enabling the flexible combination between different\ncontrols. Extensive case studies demonstrate the user intention alignment\ncapabilities of our framework, shedding light on effective user interaction\nmodeling in vision-language applications. Our code is publicly available at\nhttps://github.com/ttengwang/Caption-Anything.\n",
         [
          [
           "Wang",
           "Teng",
           ""
          ],
          [
           "Zhang",
           "Jinrui",
           ""
          ],
          [
           "Fei",
           "Junjie",
           ""
          ],
          [
           "Zheng",
           "Hao",
           ""
          ],
          [
           "Tang",
           "Yunlong",
           ""
          ],
          [
           "Li",
           "Zhe",
           ""
          ],
          [
           "Gao",
           "Mingqi",
           ""
          ],
          [
           "Zhao",
           "Shanshan",
           ""
          ]
         ],
         "cs.CV",
         "2305.02677",
         "Teng Wang",
         "Caption Anything: Interactive Image Description with Diverse Multimodal\n  Controls",
         "2023-07-07",
         2023
        ],
        [
         "  In this paper, we study row graphs of Toeplitz matrices. The notion of row\ngraphs was introduced by Greenberg et al. in 1984 and is closely related to the\nnotion of competition graphs, which has been extensively studied since Cohen\nhad introduced it in 1968.\n  To understand the structure of the row graphs of Toeplitz matrices, which\nseem to be quite complicated, we have begun with Toeplitz matrices whose row\ngraphs are triangle-free. We could show that if the row graph G of a Toeplitz\nmatrix T is triangle-free, then T has the maximum row sum at most 2.\nFurthermore, it turns out that G is a disjoint union of paths and cycles whose\nlengths cannot vary that much in such a case. Then we study (0, 1)-Toeplitz\nmatrices whose row graphs have only path components, only cycle components, and\na cycle component of specific length, respectively. In particular, we\ncompletely characterize a (0, 1)-Toeplitz matrix whose row graph is a cycle.\n",
         [
          [
           "Cheon",
           "Gi-Sang",
           ""
          ],
          [
           "Kang",
           "Bumtle",
           ""
          ],
          [
           "Kim",
           "Suh-Ryung",
           ""
          ],
          [
           "Ryu",
           "Homoon",
           ""
          ]
         ],
         "math.CO",
         "2305.02690",
         "Bumtle Kang",
         "Row graphs of Toeplitz matrices",
         "2023-05-05",
         2023
        ]
       ],
       "datasetInfos": [],
       "dbfsResultPath": null,
       "isJsonSchema": true,
       "metadata": {},
       "overflow": false,
       "plotOptions": {
        "customPlotOptions": {},
        "displayType": "table",
        "pivotAggregation": null,
        "pivotColumns": null,
        "xColumns": null,
        "yColumns": null
       },
       "removedWidgets": [],
       "schema": [
        {
         "metadata": "{}",
         "name": "abstract",
         "type": "\"string\""
        },
        {
         "metadata": "{}",
         "name": "authors_parsed",
         "type": "{\"type\":\"array\",\"elementType\":{\"type\":\"array\",\"elementType\":\"string\",\"containsNull\":true},\"containsNull\":true}"
        },
        {
         "metadata": "{}",
         "name": "categories",
         "type": "\"string\""
        },
        {
         "metadata": "{}",
         "name": "id",
         "type": "\"string\""
        },
        {
         "metadata": "{}",
         "name": "submitter",
         "type": "\"string\""
        },
        {
         "metadata": "{}",
         "name": "title",
         "type": "\"string\""
        },
        {
         "metadata": "{}",
         "name": "update_date",
         "type": "\"string\""
        },
        {
         "metadata": "{}",
         "name": "year",
         "type": "\"integer\""
        }
       ],
       "type": "table"
      }
     },
     "output_type": "display_data"
    }
   ],
   "source": [
    "display(df.limit(3))"
   ]
  },
  {
   "cell_type": "markdown",
   "metadata": {
    "application/vnd.databricks.v1+cell": {
     "cellMetadata": {
      "byteLimit": 2048000,
      "rowLimit": 10000
     },
     "inputWidgets": {},
     "nuid": "49828d4c-e44b-43d4-9dbf-687ea2e37fd8",
     "showTitle": false,
     "title": ""
    }
   },
   "source": [
    "\n",
    "# Cleaning and tokenization"
   ]
  },
  {
   "cell_type": "code",
   "execution_count": 0,
   "metadata": {
    "application/vnd.databricks.v1+cell": {
     "cellMetadata": {
      "byteLimit": 2048000,
      "rowLimit": 10000
     },
     "inputWidgets": {},
     "nuid": "df0b3f57-dab4-407e-9ed8-9166b02b6b11",
     "showTitle": false,
     "title": ""
    }
   },
   "outputs": [],
   "source": [
    "from pyspark.ml.feature import Tokenizer, StopWordsRemover, RegexTokenizer\n",
    "from pyspark.sql.functions import udf, col, regexp_replace"
   ]
  },
  {
   "cell_type": "code",
   "execution_count": 0,
   "metadata": {
    "application/vnd.databricks.v1+cell": {
     "cellMetadata": {
      "byteLimit": 2048000,
      "rowLimit": 10000
     },
     "inputWidgets": {},
     "nuid": "86198d05-93aa-4933-9240-7e4695916d88",
     "showTitle": false,
     "title": ""
    }
   },
   "outputs": [],
   "source": [
    "def clean_text(df, input_column = \"abstract\", output_column = \"abstract_clean\"):\n",
    "    # Remove LaTeX math equations\n",
    "    df = df.withColumn(output_column, regexp_replace(input_column, r\"(\\$+)(?:(?!\\1)[\\s\\S])*\\1\", \"\"))\n",
    "    df = df.withColumn(output_column, regexp_replace(output_column, r\"[\\d-]\", \"\"))\n",
    "    df = df.withColumn(output_column, regexp_replace(output_column, r\"[()£^.,\\\\]+\", \"\"))\n",
    "    return df"
   ]
  },
  {
   "cell_type": "code",
   "execution_count": 0,
   "metadata": {
    "application/vnd.databricks.v1+cell": {
     "cellMetadata": {
      "byteLimit": 2048000,
      "rowLimit": 10000
     },
     "inputWidgets": {},
     "nuid": "8b7129f6-fa0a-47b5-ba27-a46e902919f9",
     "showTitle": false,
     "title": ""
    }
   },
   "outputs": [
    {
     "output_type": "display_data",
     "data": {
      "text/html": [
       "<style scoped>\n",
       "  .table-result-container {\n",
       "    max-height: 300px;\n",
       "    overflow: auto;\n",
       "  }\n",
       "  table, th, td {\n",
       "    border: 1px solid black;\n",
       "    border-collapse: collapse;\n",
       "  }\n",
       "  th, td {\n",
       "    padding: 5px;\n",
       "  }\n",
       "  th {\n",
       "    text-align: left;\n",
       "  }\n",
       "</style><div class='table-result-container'><table class='table-result'><thead style='background-color: white'><tr><th>abstract</th><th>authors_parsed</th><th>categories</th><th>id</th><th>submitter</th><th>title</th><th>update_date</th><th>year</th><th>abstract_math_free</th></tr></thead><tbody><tr><td>  Imitation learning holds great promise for addressing the complex task of\n",
       "autonomous urban driving, as experienced human drivers can navigate highly\n",
       "challenging scenarios with ease. While behavior cloning is a widely used\n",
       "imitation learning approach in autonomous driving due to its exemption from\n",
       "risky online interactions, it suffers from the covariate shift issue. To\n",
       "address this limitation, we propose a context-conditioned imitation learning\n",
       "approach that employs a policy to map the context state into the ego vehicle's\n",
       "future trajectory, rather than relying on the traditional formulation of both\n",
       "ego and context states to predict the ego action. Additionally, to reduce the\n",
       "implicit ego information in the coordinate system, we design an ego-perturbed\n",
       "goal-oriented coordinate system. The origin of this coordinate system is the\n",
       "ego vehicle's position plus a zero mean Gaussian perturbation, and the x-axis\n",
       "direction points towards its goal position. Our experiments on the real-world\n",
       "large-scale Lyft and nuPlan datasets show that our method significantly\n",
       "outperforms state-of-the-art approaches.\n",
       "</td><td>List(List(Guo, Ke, ), List(Jing, Wei, ), List(Chen, Junbo, ), List(Pan, Jia, ))</td><td>cs.RO</td><td>2305.02649</td><td>Ke Guo</td><td>CCIL: Context-conditioned imitation learning for urban driving</td><td>2023-05-05</td><td>2023</td><td>  Imitation learning holds great promise for addressing the complex task of\n",
       "autonomous urban driving as experienced human drivers can navigate highly\n",
       "challenging scenarios with ease While behavior cloning is a widely used\n",
       "imitation learning approach in autonomous driving due to its exemption from\n",
       "risky online interactions it suffers from the covariate shift issue To\n",
       "address this limitation we propose a contextconditioned imitation learning\n",
       "approach that employs a policy to map the context state into the ego vehicle's\n",
       "future trajectory rather than relying on the traditional formulation of both\n",
       "ego and context states to predict the ego action Additionally to reduce the\n",
       "implicit ego information in the coordinate system we design an egoperturbed\n",
       "goaloriented coordinate system The origin of this coordinate system is the\n",
       "ego vehicle's position plus a zero mean Gaussian perturbation and the xaxis\n",
       "direction points towards its goal position Our experiments on the realworld\n",
       "largescale Lyft and nuPlan datasets show that our method significantly\n",
       "outperforms stateoftheart approaches\n",
       "</td></tr><tr><td>  Controllable image captioning is an emerging multimodal topic that aims to\n",
       "describe the image with natural language following human purpose,\n",
       "$\\textit{e.g.}$, looking at the specified regions or telling in a particular\n",
       "text style. State-of-the-art methods are trained on annotated pairs of input\n",
       "controls and output captions. However, the scarcity of such well-annotated\n",
       "multimodal data largely limits their usability and scalability for interactive\n",
       "AI systems. Leveraging unimodal instruction-following foundation models is a\n",
       "promising alternative that benefits from broader sources of data. In this\n",
       "paper, we present Caption AnyThing (CAT), a foundation model augmented image\n",
       "captioning framework supporting a wide range of multimodel controls: 1) visual\n",
       "controls, including points, boxes, and trajectories; 2) language controls, such\n",
       "as sentiment, length, language, and factuality. Powered by Segment Anything\n",
       "Model (SAM) and ChatGPT, we unify the visual and language prompts into a\n",
       "modularized framework, enabling the flexible combination between different\n",
       "controls. Extensive case studies demonstrate the user intention alignment\n",
       "capabilities of our framework, shedding light on effective user interaction\n",
       "modeling in vision-language applications. Our code is publicly available at\n",
       "https://github.com/ttengwang/Caption-Anything.\n",
       "</td><td>List(List(Wang, Teng, ), List(Zhang, Jinrui, ), List(Fei, Junjie, ), List(Zheng, Hao, ), List(Tang, Yunlong, ), List(Li, Zhe, ), List(Gao, Mingqi, ), List(Zhao, Shanshan, ))</td><td>cs.CV</td><td>2305.02677</td><td>Teng Wang</td><td>Caption Anything: Interactive Image Description with Diverse Multimodal\n",
       "  Controls</td><td>2023-07-07</td><td>2023</td><td>  Controllable image captioning is an emerging multimodal topic that aims to\n",
       "describe the image with natural language following human purpose\n",
       " looking at the specified regions or telling in a particular\n",
       "text style Stateoftheart methods are trained on annotated pairs of input\n",
       "controls and output captions However the scarcity of such wellannotated\n",
       "multimodal data largely limits their usability and scalability for interactive\n",
       "AI systems Leveraging unimodal instructionfollowing foundation models is a\n",
       "promising alternative that benefits from broader sources of data In this\n",
       "paper we present Caption AnyThing CAT a foundation model augmented image\n",
       "captioning framework supporting a wide range of multimodel controls:  visual\n",
       "controls including points boxes and trajectories;  language controls such\n",
       "as sentiment length language and factuality Powered by Segment Anything\n",
       "Model SAM and ChatGPT we unify the visual and language prompts into a\n",
       "modularized framework enabling the flexible combination between different\n",
       "controls Extensive case studies demonstrate the user intention alignment\n",
       "capabilities of our framework shedding light on effective user interaction\n",
       "modeling in visionlanguage applications Our code is publicly available at\n",
       "https://githubcom/ttengwang/CaptionAnything\n",
       "</td></tr><tr><td>  In this paper, we study row graphs of Toeplitz matrices. The notion of row\n",
       "graphs was introduced by Greenberg et al. in 1984 and is closely related to the\n",
       "notion of competition graphs, which has been extensively studied since Cohen\n",
       "had introduced it in 1968.\n",
       "  To understand the structure of the row graphs of Toeplitz matrices, which\n",
       "seem to be quite complicated, we have begun with Toeplitz matrices whose row\n",
       "graphs are triangle-free. We could show that if the row graph G of a Toeplitz\n",
       "matrix T is triangle-free, then T has the maximum row sum at most 2.\n",
       "Furthermore, it turns out that G is a disjoint union of paths and cycles whose\n",
       "lengths cannot vary that much in such a case. Then we study (0, 1)-Toeplitz\n",
       "matrices whose row graphs have only path components, only cycle components, and\n",
       "a cycle component of specific length, respectively. In particular, we\n",
       "completely characterize a (0, 1)-Toeplitz matrix whose row graph is a cycle.\n",
       "</td><td>List(List(Cheon, Gi-Sang, ), List(Kang, Bumtle, ), List(Kim, Suh-Ryung, ), List(Ryu, Homoon, ))</td><td>math.CO</td><td>2305.02690</td><td>Bumtle Kang</td><td>Row graphs of Toeplitz matrices</td><td>2023-05-05</td><td>2023</td><td>  In this paper we study row graphs of Toeplitz matrices The notion of row\n",
       "graphs was introduced by Greenberg et al in  and is closely related to the\n",
       "notion of competition graphs which has been extensively studied since Cohen\n",
       "had introduced it in \n",
       "  To understand the structure of the row graphs of Toeplitz matrices which\n",
       "seem to be quite complicated we have begun with Toeplitz matrices whose row\n",
       "graphs are trianglefree We could show that if the row graph G of a Toeplitz\n",
       "matrix T is trianglefree then T has the maximum row sum at most \n",
       "Furthermore it turns out that G is a disjoint union of paths and cycles whose\n",
       "lengths cannot vary that much in such a case Then we study  Toeplitz\n",
       "matrices whose row graphs have only path components only cycle components and\n",
       "a cycle component of specific length respectively In particular we\n",
       "completely characterize a  Toeplitz matrix whose row graph is a cycle\n",
       "</td></tr></tbody></table></div>"
      ]
     },
     "metadata": {
      "application/vnd.databricks.v1+output": {
       "addedWidgets": {},
       "aggData": [],
       "aggError": "",
       "aggOverflow": false,
       "aggSchema": [],
       "aggSeriesLimitReached": false,
       "aggType": "",
       "arguments": {},
       "columnCustomDisplayInfos": {},
       "data": [
        [
         "  Imitation learning holds great promise for addressing the complex task of\nautonomous urban driving, as experienced human drivers can navigate highly\nchallenging scenarios with ease. While behavior cloning is a widely used\nimitation learning approach in autonomous driving due to its exemption from\nrisky online interactions, it suffers from the covariate shift issue. To\naddress this limitation, we propose a context-conditioned imitation learning\napproach that employs a policy to map the context state into the ego vehicle's\nfuture trajectory, rather than relying on the traditional formulation of both\nego and context states to predict the ego action. Additionally, to reduce the\nimplicit ego information in the coordinate system, we design an ego-perturbed\ngoal-oriented coordinate system. The origin of this coordinate system is the\nego vehicle's position plus a zero mean Gaussian perturbation, and the x-axis\ndirection points towards its goal position. Our experiments on the real-world\nlarge-scale Lyft and nuPlan datasets show that our method significantly\noutperforms state-of-the-art approaches.\n",
         [
          [
           "Guo",
           "Ke",
           ""
          ],
          [
           "Jing",
           "Wei",
           ""
          ],
          [
           "Chen",
           "Junbo",
           ""
          ],
          [
           "Pan",
           "Jia",
           ""
          ]
         ],
         "cs.RO",
         "2305.02649",
         "Ke Guo",
         "CCIL: Context-conditioned imitation learning for urban driving",
         "2023-05-05",
         2023,
         "  Imitation learning holds great promise for addressing the complex task of\nautonomous urban driving as experienced human drivers can navigate highly\nchallenging scenarios with ease While behavior cloning is a widely used\nimitation learning approach in autonomous driving due to its exemption from\nrisky online interactions it suffers from the covariate shift issue To\naddress this limitation we propose a contextconditioned imitation learning\napproach that employs a policy to map the context state into the ego vehicle's\nfuture trajectory rather than relying on the traditional formulation of both\nego and context states to predict the ego action Additionally to reduce the\nimplicit ego information in the coordinate system we design an egoperturbed\ngoaloriented coordinate system The origin of this coordinate system is the\nego vehicle's position plus a zero mean Gaussian perturbation and the xaxis\ndirection points towards its goal position Our experiments on the realworld\nlargescale Lyft and nuPlan datasets show that our method significantly\noutperforms stateoftheart approaches\n"
        ],
        [
         "  Controllable image captioning is an emerging multimodal topic that aims to\ndescribe the image with natural language following human purpose,\n$\\textit{e.g.}$, looking at the specified regions or telling in a particular\ntext style. State-of-the-art methods are trained on annotated pairs of input\ncontrols and output captions. However, the scarcity of such well-annotated\nmultimodal data largely limits their usability and scalability for interactive\nAI systems. Leveraging unimodal instruction-following foundation models is a\npromising alternative that benefits from broader sources of data. In this\npaper, we present Caption AnyThing (CAT), a foundation model augmented image\ncaptioning framework supporting a wide range of multimodel controls: 1) visual\ncontrols, including points, boxes, and trajectories; 2) language controls, such\nas sentiment, length, language, and factuality. Powered by Segment Anything\nModel (SAM) and ChatGPT, we unify the visual and language prompts into a\nmodularized framework, enabling the flexible combination between different\ncontrols. Extensive case studies demonstrate the user intention alignment\ncapabilities of our framework, shedding light on effective user interaction\nmodeling in vision-language applications. Our code is publicly available at\nhttps://github.com/ttengwang/Caption-Anything.\n",
         [
          [
           "Wang",
           "Teng",
           ""
          ],
          [
           "Zhang",
           "Jinrui",
           ""
          ],
          [
           "Fei",
           "Junjie",
           ""
          ],
          [
           "Zheng",
           "Hao",
           ""
          ],
          [
           "Tang",
           "Yunlong",
           ""
          ],
          [
           "Li",
           "Zhe",
           ""
          ],
          [
           "Gao",
           "Mingqi",
           ""
          ],
          [
           "Zhao",
           "Shanshan",
           ""
          ]
         ],
         "cs.CV",
         "2305.02677",
         "Teng Wang",
         "Caption Anything: Interactive Image Description with Diverse Multimodal\n  Controls",
         "2023-07-07",
         2023,
         "  Controllable image captioning is an emerging multimodal topic that aims to\ndescribe the image with natural language following human purpose\n looking at the specified regions or telling in a particular\ntext style Stateoftheart methods are trained on annotated pairs of input\ncontrols and output captions However the scarcity of such wellannotated\nmultimodal data largely limits their usability and scalability for interactive\nAI systems Leveraging unimodal instructionfollowing foundation models is a\npromising alternative that benefits from broader sources of data In this\npaper we present Caption AnyThing CAT a foundation model augmented image\ncaptioning framework supporting a wide range of multimodel controls:  visual\ncontrols including points boxes and trajectories;  language controls such\nas sentiment length language and factuality Powered by Segment Anything\nModel SAM and ChatGPT we unify the visual and language prompts into a\nmodularized framework enabling the flexible combination between different\ncontrols Extensive case studies demonstrate the user intention alignment\ncapabilities of our framework shedding light on effective user interaction\nmodeling in visionlanguage applications Our code is publicly available at\nhttps://githubcom/ttengwang/CaptionAnything\n"
        ],
        [
         "  In this paper, we study row graphs of Toeplitz matrices. The notion of row\ngraphs was introduced by Greenberg et al. in 1984 and is closely related to the\nnotion of competition graphs, which has been extensively studied since Cohen\nhad introduced it in 1968.\n  To understand the structure of the row graphs of Toeplitz matrices, which\nseem to be quite complicated, we have begun with Toeplitz matrices whose row\ngraphs are triangle-free. We could show that if the row graph G of a Toeplitz\nmatrix T is triangle-free, then T has the maximum row sum at most 2.\nFurthermore, it turns out that G is a disjoint union of paths and cycles whose\nlengths cannot vary that much in such a case. Then we study (0, 1)-Toeplitz\nmatrices whose row graphs have only path components, only cycle components, and\na cycle component of specific length, respectively. In particular, we\ncompletely characterize a (0, 1)-Toeplitz matrix whose row graph is a cycle.\n",
         [
          [
           "Cheon",
           "Gi-Sang",
           ""
          ],
          [
           "Kang",
           "Bumtle",
           ""
          ],
          [
           "Kim",
           "Suh-Ryung",
           ""
          ],
          [
           "Ryu",
           "Homoon",
           ""
          ]
         ],
         "math.CO",
         "2305.02690",
         "Bumtle Kang",
         "Row graphs of Toeplitz matrices",
         "2023-05-05",
         2023,
         "  In this paper we study row graphs of Toeplitz matrices The notion of row\ngraphs was introduced by Greenberg et al in  and is closely related to the\nnotion of competition graphs which has been extensively studied since Cohen\nhad introduced it in \n  To understand the structure of the row graphs of Toeplitz matrices which\nseem to be quite complicated we have begun with Toeplitz matrices whose row\ngraphs are trianglefree We could show that if the row graph G of a Toeplitz\nmatrix T is trianglefree then T has the maximum row sum at most \nFurthermore it turns out that G is a disjoint union of paths and cycles whose\nlengths cannot vary that much in such a case Then we study  Toeplitz\nmatrices whose row graphs have only path components only cycle components and\na cycle component of specific length respectively In particular we\ncompletely characterize a  Toeplitz matrix whose row graph is a cycle\n"
        ]
       ],
       "datasetInfos": [],
       "dbfsResultPath": null,
       "isJsonSchema": true,
       "metadata": {},
       "overflow": false,
       "plotOptions": {
        "customPlotOptions": {},
        "displayType": "table",
        "pivotAggregation": null,
        "pivotColumns": null,
        "xColumns": null,
        "yColumns": null
       },
       "removedWidgets": [],
       "schema": [
        {
         "metadata": "{}",
         "name": "abstract",
         "type": "\"string\""
        },
        {
         "metadata": "{}",
         "name": "authors_parsed",
         "type": "{\"type\":\"array\",\"elementType\":{\"type\":\"array\",\"elementType\":\"string\",\"containsNull\":true},\"containsNull\":true}"
        },
        {
         "metadata": "{}",
         "name": "categories",
         "type": "\"string\""
        },
        {
         "metadata": "{}",
         "name": "id",
         "type": "\"string\""
        },
        {
         "metadata": "{}",
         "name": "submitter",
         "type": "\"string\""
        },
        {
         "metadata": "{}",
         "name": "title",
         "type": "\"string\""
        },
        {
         "metadata": "{}",
         "name": "update_date",
         "type": "\"string\""
        },
        {
         "metadata": "{}",
         "name": "year",
         "type": "\"integer\""
        },
        {
         "metadata": "{}",
         "name": "abstract_math_free",
         "type": "\"string\""
        }
       ],
       "type": "table"
      }
     },
     "output_type": "display_data"
    }
   ],
   "source": [
    "# Remove LaTeX math equations\n",
    "df = clean_text(df, output_column = \"abstract_math_free\")\n",
    "display(df.limit(3))"
   ]
  },
  {
   "cell_type": "code",
   "execution_count": 0,
   "metadata": {
    "application/vnd.databricks.v1+cell": {
     "cellMetadata": {
      "byteLimit": 2048000,
      "rowLimit": 10000
     },
     "inputWidgets": {},
     "nuid": "a516fe72-7d63-48ca-964c-09b031bee65c",
     "showTitle": false,
     "title": ""
    }
   },
   "outputs": [],
   "source": [
    "word_tokenizer = RegexTokenizer(inputCol = \"abstract_math_free\", outputCol = \"word_tokens\", minTokenLength = 3)\n",
    "stop_words_remover = StopWordsRemover(inputCol = \"word_tokens\", outputCol = \"clean_tokens\")"
   ]
  },
  {
   "cell_type": "code",
   "execution_count": 0,
   "metadata": {
    "application/vnd.databricks.v1+cell": {
     "cellMetadata": {
      "byteLimit": 2048000,
      "rowLimit": 10000
     },
     "inputWidgets": {},
     "nuid": "d67eb3fa-020a-48ed-bf38-513829464815",
     "showTitle": false,
     "title": ""
    }
   },
   "outputs": [],
   "source": [
    "df = word_tokenizer.transform(df)\n",
    "df = stop_words_remover.transform(df)"
   ]
  },
  {
   "cell_type": "code",
   "execution_count": 0,
   "metadata": {
    "application/vnd.databricks.v1+cell": {
     "cellMetadata": {
      "byteLimit": 2048000,
      "rowLimit": 10000
     },
     "inputWidgets": {},
     "nuid": "cadc11bb-dc0a-4fb6-bd4d-fd35f189c5ff",
     "showTitle": false,
     "title": ""
    }
   },
   "outputs": [
    {
     "output_type": "display_data",
     "data": {
      "text/html": [
       "<style scoped>\n",
       "  .table-result-container {\n",
       "    max-height: 300px;\n",
       "    overflow: auto;\n",
       "  }\n",
       "  table, th, td {\n",
       "    border: 1px solid black;\n",
       "    border-collapse: collapse;\n",
       "  }\n",
       "  th, td {\n",
       "    padding: 5px;\n",
       "  }\n",
       "  th {\n",
       "    text-align: left;\n",
       "  }\n",
       "</style><div class='table-result-container'><table class='table-result'><thead style='background-color: white'><tr><th>id</th><th>clean_tokens</th></tr></thead><tbody><tr><td>2305.02649</td><td>List(imitation, learning, holds, great, promise, addressing, complex, task, autonomous, urban, driving, experienced, human, drivers, navigate, highly, challenging, scenarios, ease, behavior, cloning, widely, used, imitation, learning, approach, autonomous, driving, due, exemption, risky, online, interactions, suffers, covariate, shift, issue, address, limitation, propose, contextconditioned, imitation, learning, approach, employs, policy, map, context, state, ego, vehicle's, future, trajectory, rather, relying, traditional, formulation, ego, context, states, predict, ego, action, additionally, reduce, implicit, ego, information, coordinate, system, design, egoperturbed, goaloriented, coordinate, system, origin, coordinate, system, ego, vehicle's, position, plus, zero, mean, gaussian, perturbation, xaxis, direction, points, towards, goal, position, experiments, realworld, largescale, lyft, nuplan, datasets, show, method, significantly, outperforms, stateoftheart, approaches)</td></tr><tr><td>2305.02677</td><td>List(controllable, image, captioning, emerging, multimodal, topic, aims, describe, image, natural, language, following, human, purpose, looking, specified, regions, telling, particular, text, style, stateoftheart, methods, trained, annotated, pairs, input, controls, output, captions, however, scarcity, wellannotated, multimodal, data, largely, limits, usability, scalability, interactive, systems, leveraging, unimodal, instructionfollowing, foundation, models, promising, alternative, benefits, broader, sources, data, paper, present, caption, anything, cat, foundation, model, augmented, image, captioning, framework, supporting, wide, range, multimodel, controls:, visual, controls, including, points, boxes, trajectories;, language, controls, sentiment, length, language, factuality, powered, segment, anything, model, sam, chatgpt, unify, visual, language, prompts, modularized, framework, enabling, flexible, combination, different, controls, extensive, case, studies, demonstrate, user, intention, alignment, capabilities, framework, shedding, light, effective, user, interaction, modeling, visionlanguage, applications, code, publicly, available, https://githubcom/ttengwang/captionanything)</td></tr><tr><td>2305.02690</td><td>List(paper, study, row, graphs, toeplitz, matrices, notion, row, graphs, introduced, greenberg, closely, related, notion, competition, graphs, extensively, studied, since, cohen, introduced, understand, structure, row, graphs, toeplitz, matrices, seem, quite, complicated, begun, toeplitz, matrices, whose, row, graphs, trianglefree, show, row, graph, toeplitz, matrix, trianglefree, maximum, row, sum, furthermore, turns, disjoint, union, paths, cycles, whose, lengths, vary, much, case, study, toeplitz, matrices, whose, row, graphs, path, components, cycle, components, cycle, component, specific, length, respectively, particular, completely, characterize, toeplitz, matrix, whose, row, graph, cycle)</td></tr><tr><td>2305.02704</td><td>List(fractional, programming, plays, crucial, role, wireless, network, design, many, relevant, problems, involve, maximizing, minimizing, ratio, terms, notice, maximization, case, minimization, case, converted, general, dealt, separately, previous, studies, thus, existing, method, maximizing, ratios, typically, work, minimization, case, vice, versa, however, objective, mixed, maxandmin, one, may, wish, maximize, signaltointerferenceplusnoise, ratio, sinr, legitimate, receiver, minimizing, eavesdropper, aim, fill, gap, maxfp, minfp, devising, unified, optimization, framework, main, results, threefold, first, extend, existing, maxfp, technique, called, quadratic, transform, minfp, develop, full, generalization, mixed, case, second, provide, minorizationmaximization, interpretation, proposed, unified, approach, thereby, establishing, convergence, also, obtaining, matrix, extension;, another, result, obtain, generalized, lagrangian, dual, transform, facilitates, solving, logarithmic, finally, present, three, typical, applications:, ageofinformation, aoi, minimization, cramerrao, bound, minimization, sensing, secure, data, rate, maximization, none, efficiently, addressed, previous, methods)</td></tr><tr><td>2305.02721</td><td>List(study, symmetry, breaking, particle, physics, plays, important, role, order, get, useful, information, nature, classification, arrangements, subatomic, particles, also, necessary, study, particle, physics, particles, building, blocks, nature, quarks, gluons, leptons, baryons, mesons, composed, quarks, arranged, gellmann, okubo, wellknown, eightfold, way, symmetry, standard, model, particles, composed, particles, particles, also, make, beautiful, patron, make, multiplets, baryons, spin, jp=, multiplets, observed, till, date, paper, multiplets, organized, studied, easy, new, way, result, obtained, clues, masses, characteristics, unknown, hyperons, approximations, characteristics, unidentified, baryons, recorded, article, mass, formula, baryon, multiplets, obtained)</td></tr><tr><td>2305.02730</td><td>List(paper, shown, every, lattice, exists, sequence, equidistributes, horocycle, flow, makes, modest, progress, towards, conjecture, shah, generalizes, result, venkatesh, arxiv:math/, established, equidistribution, cocompact, lattices, proof, utilizes, dichotomy, good, equidistribution, estimates, approximability, closed, horocycles, small, period)</td></tr><tr><td>2305.02735</td><td>List(galois, ring, residue, ring, basic, primitive, polynomial, degree, odd, larger, construct, partition, subsets, type, subsets, type, partition, invariant, multiplication, nonzero, element, teichmuller, set, multiple, action, automorphism, group, corollary, implies, existence, quasicyclic, additive, perfect, codes, index, doob, metric, scheme)</td></tr><tr><td>2305.02767</td><td>List(paper, construct, certain, quantum, spin, systems, moduli, spaces, connections, connected, oriented, finite, graph, simply, connected, compact, lie, group, construct, joint, eigenfunctions, commuting, quantum, hamiltonians, terms, local, invariant, tensors, determine, sufficient, conditions, ensuring, superintegrability, quantum, spin, system, using, irreducibility, criteria, harishchandra, modules, due, harishchandra, lepowsky, mccollum, resulting, class, quantum, superintegrable, spin, systems, includes, quantum, periodic, open, spin, calogeromoser, spin, chains, special, cases, periodic, case, description, joint, eigenfunctions, terms, local, invariant, tensors, multipoint, generalised, trace, functions, open, case, multipoint, spherical, functions, compact, symmetric, spaces)</td></tr><tr><td>2305.02782</td><td>List(largescale, dynamic, network, ldn, source, data, many, big, datarelated, applications, due, large, number, entities, largescale, dynamic, interactions, modeled, highdimensional, incomplete, hdi, tensor, contains, wealth, knowledge, time, patterns, latent, factorization, tensors, lft, model, efficiently, extracts, time, pattern, established, using, stochastic, gradient, descent, sgd, solvers, however, lft, models, based, sgd, often, limited, training, schemes, poor, tail, convergence, solve, problem, paper, proposes, novel, nonlinear, lft, model, mnnl, based, momentumincorporated, sgd, extracts, nonnegative, latent, factors, hdi, tensors, make, training, unconstrained, compatible, general, training, schemes, improving, convergence, accuracy, speed, empirical, studies, two, ldn, datasets, show, compared, existing, models, mnnl, model, higher, prediction, accuracy, convergence, speed)</td></tr><tr><td>2305.02783</td><td>List(recent, improvement, code, generation, capabilities, due, use, large, language, models, mainly, benefited, general, purpose, programming, languages, domain, specific, languages, ones, used, automation, received, far, less, attention, despite, involving, many, active, developers, essential, component, modern, cloud, platforms, work, focuses, generation, ansibleyaml, widely, used, markup, language, automation, present, ansible, wisdom, naturallanguage, ansibleyaml, code, generation, tool, aimed, improving, automation, productivity, ansible, wisdom, transformerbased, model, extended, training, new, dataset, containing, ansibleyaml, also, develop, two, novel, performance, metrics, yaml, ansible, capture, specific, characteristics, domain, results, show, ansible, wisdom, accurately, generate, ansible, script, natural, language, prompts, performance, comparable, better, existing, state, art, code, generation, models, fewshot, settings, asses, impact, training, ansible, yaml, data, compare, different, baselines, including, codexdavinci, also, show, finetuning, ansible, specific, model, bleu:, outperform, much, larger, codexdavinci, bleu:, model, evaluated, shot, settings)</td></tr><tr><td>2305.02787</td><td>List(article, review, smallscale, dynamo, processes, responsible, magnetic, field, generation, scales, comparable, smaller, energy, carrying, scales, turbulence, provide, review, critical, observation, quiet, sun, magnetism, provided, strong, support, operation, smallscale, dynamo, solar, photosphere, convection, zone, review, basic, concepts, focus, numerical, studies, kinematic, growth, nonlinear, saturation, idealized, setups, special, emphasis, role, magnetic, prandtl, number, dynamo, onset, saturation, moving, towards, astrophysical, applications, review, convective, dynamo, setups, focus, deep, convection, zone, photospheres, solarlike, stars, review, critical, ingredients, stellar, convection, setups, discuss, application, sun, solarlike, stars, including, comparison, available, observations)</td></tr><tr><td>2305.02797</td><td>List(recent, advances, deep, learning, methods, natural, language, processing, nlp, created, new, business, opportunities, made, nlp, research, critical, industry, development, one, big, players, field, nlp, together, governments, universities, important, track, influence, industry, research, study, seek, quantify, characterize, industry, presence, nlp, community, time, using, corpus, comprehensive, metadata, nlp, publications, resumes, nlp, publication, authors, explore, industry, presence, field, since, early, find, industry, presence, among, nlp, authors, steady, steep, increase, past, five, years, growth, companies, account, publications, provide, funding, academic, researchers, grants, internships, study, shows, presence, impact, industry, natural, language, processing, research, significant, fastgrowing, work, calls, increased, transparency, industry, influence, field)</td></tr></tbody></table></div>"
      ]
     },
     "metadata": {
      "application/vnd.databricks.v1+output": {
       "addedWidgets": {},
       "aggData": [],
       "aggError": "",
       "aggOverflow": false,
       "aggSchema": [],
       "aggSeriesLimitReached": false,
       "aggType": "",
       "arguments": {},
       "columnCustomDisplayInfos": {},
       "data": [
        [
         "2305.02649",
         [
          "imitation",
          "learning",
          "holds",
          "great",
          "promise",
          "addressing",
          "complex",
          "task",
          "autonomous",
          "urban",
          "driving",
          "experienced",
          "human",
          "drivers",
          "navigate",
          "highly",
          "challenging",
          "scenarios",
          "ease",
          "behavior",
          "cloning",
          "widely",
          "used",
          "imitation",
          "learning",
          "approach",
          "autonomous",
          "driving",
          "due",
          "exemption",
          "risky",
          "online",
          "interactions",
          "suffers",
          "covariate",
          "shift",
          "issue",
          "address",
          "limitation",
          "propose",
          "contextconditioned",
          "imitation",
          "learning",
          "approach",
          "employs",
          "policy",
          "map",
          "context",
          "state",
          "ego",
          "vehicle's",
          "future",
          "trajectory",
          "rather",
          "relying",
          "traditional",
          "formulation",
          "ego",
          "context",
          "states",
          "predict",
          "ego",
          "action",
          "additionally",
          "reduce",
          "implicit",
          "ego",
          "information",
          "coordinate",
          "system",
          "design",
          "egoperturbed",
          "goaloriented",
          "coordinate",
          "system",
          "origin",
          "coordinate",
          "system",
          "ego",
          "vehicle's",
          "position",
          "plus",
          "zero",
          "mean",
          "gaussian",
          "perturbation",
          "xaxis",
          "direction",
          "points",
          "towards",
          "goal",
          "position",
          "experiments",
          "realworld",
          "largescale",
          "lyft",
          "nuplan",
          "datasets",
          "show",
          "method",
          "significantly",
          "outperforms",
          "stateoftheart",
          "approaches"
         ]
        ],
        [
         "2305.02677",
         [
          "controllable",
          "image",
          "captioning",
          "emerging",
          "multimodal",
          "topic",
          "aims",
          "describe",
          "image",
          "natural",
          "language",
          "following",
          "human",
          "purpose",
          "looking",
          "specified",
          "regions",
          "telling",
          "particular",
          "text",
          "style",
          "stateoftheart",
          "methods",
          "trained",
          "annotated",
          "pairs",
          "input",
          "controls",
          "output",
          "captions",
          "however",
          "scarcity",
          "wellannotated",
          "multimodal",
          "data",
          "largely",
          "limits",
          "usability",
          "scalability",
          "interactive",
          "systems",
          "leveraging",
          "unimodal",
          "instructionfollowing",
          "foundation",
          "models",
          "promising",
          "alternative",
          "benefits",
          "broader",
          "sources",
          "data",
          "paper",
          "present",
          "caption",
          "anything",
          "cat",
          "foundation",
          "model",
          "augmented",
          "image",
          "captioning",
          "framework",
          "supporting",
          "wide",
          "range",
          "multimodel",
          "controls:",
          "visual",
          "controls",
          "including",
          "points",
          "boxes",
          "trajectories;",
          "language",
          "controls",
          "sentiment",
          "length",
          "language",
          "factuality",
          "powered",
          "segment",
          "anything",
          "model",
          "sam",
          "chatgpt",
          "unify",
          "visual",
          "language",
          "prompts",
          "modularized",
          "framework",
          "enabling",
          "flexible",
          "combination",
          "different",
          "controls",
          "extensive",
          "case",
          "studies",
          "demonstrate",
          "user",
          "intention",
          "alignment",
          "capabilities",
          "framework",
          "shedding",
          "light",
          "effective",
          "user",
          "interaction",
          "modeling",
          "visionlanguage",
          "applications",
          "code",
          "publicly",
          "available",
          "https://githubcom/ttengwang/captionanything"
         ]
        ],
        [
         "2305.02690",
         [
          "paper",
          "study",
          "row",
          "graphs",
          "toeplitz",
          "matrices",
          "notion",
          "row",
          "graphs",
          "introduced",
          "greenberg",
          "closely",
          "related",
          "notion",
          "competition",
          "graphs",
          "extensively",
          "studied",
          "since",
          "cohen",
          "introduced",
          "understand",
          "structure",
          "row",
          "graphs",
          "toeplitz",
          "matrices",
          "seem",
          "quite",
          "complicated",
          "begun",
          "toeplitz",
          "matrices",
          "whose",
          "row",
          "graphs",
          "trianglefree",
          "show",
          "row",
          "graph",
          "toeplitz",
          "matrix",
          "trianglefree",
          "maximum",
          "row",
          "sum",
          "furthermore",
          "turns",
          "disjoint",
          "union",
          "paths",
          "cycles",
          "whose",
          "lengths",
          "vary",
          "much",
          "case",
          "study",
          "toeplitz",
          "matrices",
          "whose",
          "row",
          "graphs",
          "path",
          "components",
          "cycle",
          "components",
          "cycle",
          "component",
          "specific",
          "length",
          "respectively",
          "particular",
          "completely",
          "characterize",
          "toeplitz",
          "matrix",
          "whose",
          "row",
          "graph",
          "cycle"
         ]
        ],
        [
         "2305.02704",
         [
          "fractional",
          "programming",
          "plays",
          "crucial",
          "role",
          "wireless",
          "network",
          "design",
          "many",
          "relevant",
          "problems",
          "involve",
          "maximizing",
          "minimizing",
          "ratio",
          "terms",
          "notice",
          "maximization",
          "case",
          "minimization",
          "case",
          "converted",
          "general",
          "dealt",
          "separately",
          "previous",
          "studies",
          "thus",
          "existing",
          "method",
          "maximizing",
          "ratios",
          "typically",
          "work",
          "minimization",
          "case",
          "vice",
          "versa",
          "however",
          "objective",
          "mixed",
          "maxandmin",
          "one",
          "may",
          "wish",
          "maximize",
          "signaltointerferenceplusnoise",
          "ratio",
          "sinr",
          "legitimate",
          "receiver",
          "minimizing",
          "eavesdropper",
          "aim",
          "fill",
          "gap",
          "maxfp",
          "minfp",
          "devising",
          "unified",
          "optimization",
          "framework",
          "main",
          "results",
          "threefold",
          "first",
          "extend",
          "existing",
          "maxfp",
          "technique",
          "called",
          "quadratic",
          "transform",
          "minfp",
          "develop",
          "full",
          "generalization",
          "mixed",
          "case",
          "second",
          "provide",
          "minorizationmaximization",
          "interpretation",
          "proposed",
          "unified",
          "approach",
          "thereby",
          "establishing",
          "convergence",
          "also",
          "obtaining",
          "matrix",
          "extension;",
          "another",
          "result",
          "obtain",
          "generalized",
          "lagrangian",
          "dual",
          "transform",
          "facilitates",
          "solving",
          "logarithmic",
          "finally",
          "present",
          "three",
          "typical",
          "applications:",
          "ageofinformation",
          "aoi",
          "minimization",
          "cramerrao",
          "bound",
          "minimization",
          "sensing",
          "secure",
          "data",
          "rate",
          "maximization",
          "none",
          "efficiently",
          "addressed",
          "previous",
          "methods"
         ]
        ],
        [
         "2305.02721",
         [
          "study",
          "symmetry",
          "breaking",
          "particle",
          "physics",
          "plays",
          "important",
          "role",
          "order",
          "get",
          "useful",
          "information",
          "nature",
          "classification",
          "arrangements",
          "subatomic",
          "particles",
          "also",
          "necessary",
          "study",
          "particle",
          "physics",
          "particles",
          "building",
          "blocks",
          "nature",
          "quarks",
          "gluons",
          "leptons",
          "baryons",
          "mesons",
          "composed",
          "quarks",
          "arranged",
          "gellmann",
          "okubo",
          "wellknown",
          "eightfold",
          "way",
          "symmetry",
          "standard",
          "model",
          "particles",
          "composed",
          "particles",
          "particles",
          "also",
          "make",
          "beautiful",
          "patron",
          "make",
          "multiplets",
          "baryons",
          "spin",
          "jp=",
          "multiplets",
          "observed",
          "till",
          "date",
          "paper",
          "multiplets",
          "organized",
          "studied",
          "easy",
          "new",
          "way",
          "result",
          "obtained",
          "clues",
          "masses",
          "characteristics",
          "unknown",
          "hyperons",
          "approximations",
          "characteristics",
          "unidentified",
          "baryons",
          "recorded",
          "article",
          "mass",
          "formula",
          "baryon",
          "multiplets",
          "obtained"
         ]
        ],
        [
         "2305.02730",
         [
          "paper",
          "shown",
          "every",
          "lattice",
          "exists",
          "sequence",
          "equidistributes",
          "horocycle",
          "flow",
          "makes",
          "modest",
          "progress",
          "towards",
          "conjecture",
          "shah",
          "generalizes",
          "result",
          "venkatesh",
          "arxiv:math/",
          "established",
          "equidistribution",
          "cocompact",
          "lattices",
          "proof",
          "utilizes",
          "dichotomy",
          "good",
          "equidistribution",
          "estimates",
          "approximability",
          "closed",
          "horocycles",
          "small",
          "period"
         ]
        ],
        [
         "2305.02735",
         [
          "galois",
          "ring",
          "residue",
          "ring",
          "basic",
          "primitive",
          "polynomial",
          "degree",
          "odd",
          "larger",
          "construct",
          "partition",
          "subsets",
          "type",
          "subsets",
          "type",
          "partition",
          "invariant",
          "multiplication",
          "nonzero",
          "element",
          "teichmuller",
          "set",
          "multiple",
          "action",
          "automorphism",
          "group",
          "corollary",
          "implies",
          "existence",
          "quasicyclic",
          "additive",
          "perfect",
          "codes",
          "index",
          "doob",
          "metric",
          "scheme"
         ]
        ],
        [
         "2305.02767",
         [
          "paper",
          "construct",
          "certain",
          "quantum",
          "spin",
          "systems",
          "moduli",
          "spaces",
          "connections",
          "connected",
          "oriented",
          "finite",
          "graph",
          "simply",
          "connected",
          "compact",
          "lie",
          "group",
          "construct",
          "joint",
          "eigenfunctions",
          "commuting",
          "quantum",
          "hamiltonians",
          "terms",
          "local",
          "invariant",
          "tensors",
          "determine",
          "sufficient",
          "conditions",
          "ensuring",
          "superintegrability",
          "quantum",
          "spin",
          "system",
          "using",
          "irreducibility",
          "criteria",
          "harishchandra",
          "modules",
          "due",
          "harishchandra",
          "lepowsky",
          "mccollum",
          "resulting",
          "class",
          "quantum",
          "superintegrable",
          "spin",
          "systems",
          "includes",
          "quantum",
          "periodic",
          "open",
          "spin",
          "calogeromoser",
          "spin",
          "chains",
          "special",
          "cases",
          "periodic",
          "case",
          "description",
          "joint",
          "eigenfunctions",
          "terms",
          "local",
          "invariant",
          "tensors",
          "multipoint",
          "generalised",
          "trace",
          "functions",
          "open",
          "case",
          "multipoint",
          "spherical",
          "functions",
          "compact",
          "symmetric",
          "spaces"
         ]
        ],
        [
         "2305.02782",
         [
          "largescale",
          "dynamic",
          "network",
          "ldn",
          "source",
          "data",
          "many",
          "big",
          "datarelated",
          "applications",
          "due",
          "large",
          "number",
          "entities",
          "largescale",
          "dynamic",
          "interactions",
          "modeled",
          "highdimensional",
          "incomplete",
          "hdi",
          "tensor",
          "contains",
          "wealth",
          "knowledge",
          "time",
          "patterns",
          "latent",
          "factorization",
          "tensors",
          "lft",
          "model",
          "efficiently",
          "extracts",
          "time",
          "pattern",
          "established",
          "using",
          "stochastic",
          "gradient",
          "descent",
          "sgd",
          "solvers",
          "however",
          "lft",
          "models",
          "based",
          "sgd",
          "often",
          "limited",
          "training",
          "schemes",
          "poor",
          "tail",
          "convergence",
          "solve",
          "problem",
          "paper",
          "proposes",
          "novel",
          "nonlinear",
          "lft",
          "model",
          "mnnl",
          "based",
          "momentumincorporated",
          "sgd",
          "extracts",
          "nonnegative",
          "latent",
          "factors",
          "hdi",
          "tensors",
          "make",
          "training",
          "unconstrained",
          "compatible",
          "general",
          "training",
          "schemes",
          "improving",
          "convergence",
          "accuracy",
          "speed",
          "empirical",
          "studies",
          "two",
          "ldn",
          "datasets",
          "show",
          "compared",
          "existing",
          "models",
          "mnnl",
          "model",
          "higher",
          "prediction",
          "accuracy",
          "convergence",
          "speed"
         ]
        ],
        [
         "2305.02783",
         [
          "recent",
          "improvement",
          "code",
          "generation",
          "capabilities",
          "due",
          "use",
          "large",
          "language",
          "models",
          "mainly",
          "benefited",
          "general",
          "purpose",
          "programming",
          "languages",
          "domain",
          "specific",
          "languages",
          "ones",
          "used",
          "automation",
          "received",
          "far",
          "less",
          "attention",
          "despite",
          "involving",
          "many",
          "active",
          "developers",
          "essential",
          "component",
          "modern",
          "cloud",
          "platforms",
          "work",
          "focuses",
          "generation",
          "ansibleyaml",
          "widely",
          "used",
          "markup",
          "language",
          "automation",
          "present",
          "ansible",
          "wisdom",
          "naturallanguage",
          "ansibleyaml",
          "code",
          "generation",
          "tool",
          "aimed",
          "improving",
          "automation",
          "productivity",
          "ansible",
          "wisdom",
          "transformerbased",
          "model",
          "extended",
          "training",
          "new",
          "dataset",
          "containing",
          "ansibleyaml",
          "also",
          "develop",
          "two",
          "novel",
          "performance",
          "metrics",
          "yaml",
          "ansible",
          "capture",
          "specific",
          "characteristics",
          "domain",
          "results",
          "show",
          "ansible",
          "wisdom",
          "accurately",
          "generate",
          "ansible",
          "script",
          "natural",
          "language",
          "prompts",
          "performance",
          "comparable",
          "better",
          "existing",
          "state",
          "art",
          "code",
          "generation",
          "models",
          "fewshot",
          "settings",
          "asses",
          "impact",
          "training",
          "ansible",
          "yaml",
          "data",
          "compare",
          "different",
          "baselines",
          "including",
          "codexdavinci",
          "also",
          "show",
          "finetuning",
          "ansible",
          "specific",
          "model",
          "bleu:",
          "outperform",
          "much",
          "larger",
          "codexdavinci",
          "bleu:",
          "model",
          "evaluated",
          "shot",
          "settings"
         ]
        ],
        [
         "2305.02787",
         [
          "article",
          "review",
          "smallscale",
          "dynamo",
          "processes",
          "responsible",
          "magnetic",
          "field",
          "generation",
          "scales",
          "comparable",
          "smaller",
          "energy",
          "carrying",
          "scales",
          "turbulence",
          "provide",
          "review",
          "critical",
          "observation",
          "quiet",
          "sun",
          "magnetism",
          "provided",
          "strong",
          "support",
          "operation",
          "smallscale",
          "dynamo",
          "solar",
          "photosphere",
          "convection",
          "zone",
          "review",
          "basic",
          "concepts",
          "focus",
          "numerical",
          "studies",
          "kinematic",
          "growth",
          "nonlinear",
          "saturation",
          "idealized",
          "setups",
          "special",
          "emphasis",
          "role",
          "magnetic",
          "prandtl",
          "number",
          "dynamo",
          "onset",
          "saturation",
          "moving",
          "towards",
          "astrophysical",
          "applications",
          "review",
          "convective",
          "dynamo",
          "setups",
          "focus",
          "deep",
          "convection",
          "zone",
          "photospheres",
          "solarlike",
          "stars",
          "review",
          "critical",
          "ingredients",
          "stellar",
          "convection",
          "setups",
          "discuss",
          "application",
          "sun",
          "solarlike",
          "stars",
          "including",
          "comparison",
          "available",
          "observations"
         ]
        ],
        [
         "2305.02797",
         [
          "recent",
          "advances",
          "deep",
          "learning",
          "methods",
          "natural",
          "language",
          "processing",
          "nlp",
          "created",
          "new",
          "business",
          "opportunities",
          "made",
          "nlp",
          "research",
          "critical",
          "industry",
          "development",
          "one",
          "big",
          "players",
          "field",
          "nlp",
          "together",
          "governments",
          "universities",
          "important",
          "track",
          "influence",
          "industry",
          "research",
          "study",
          "seek",
          "quantify",
          "characterize",
          "industry",
          "presence",
          "nlp",
          "community",
          "time",
          "using",
          "corpus",
          "comprehensive",
          "metadata",
          "nlp",
          "publications",
          "resumes",
          "nlp",
          "publication",
          "authors",
          "explore",
          "industry",
          "presence",
          "field",
          "since",
          "early",
          "find",
          "industry",
          "presence",
          "among",
          "nlp",
          "authors",
          "steady",
          "steep",
          "increase",
          "past",
          "five",
          "years",
          "growth",
          "companies",
          "account",
          "publications",
          "provide",
          "funding",
          "academic",
          "researchers",
          "grants",
          "internships",
          "study",
          "shows",
          "presence",
          "impact",
          "industry",
          "natural",
          "language",
          "processing",
          "research",
          "significant",
          "fastgrowing",
          "work",
          "calls",
          "increased",
          "transparency",
          "industry",
          "influence",
          "field"
         ]
        ]
       ],
       "datasetInfos": [],
       "dbfsResultPath": null,
       "isJsonSchema": true,
       "metadata": {},
       "overflow": false,
       "plotOptions": {
        "customPlotOptions": {},
        "displayType": "table",
        "pivotAggregation": null,
        "pivotColumns": null,
        "xColumns": null,
        "yColumns": null
       },
       "removedWidgets": [],
       "schema": [
        {
         "metadata": "{}",
         "name": "id",
         "type": "\"string\""
        },
        {
         "metadata": "{}",
         "name": "clean_tokens",
         "type": "{\"type\":\"array\",\"elementType\":\"string\",\"containsNull\":true}"
        }
       ],
       "type": "table"
      }
     },
     "output_type": "display_data"
    }
   ],
   "source": [
    "display(df.select('id', 'clean_tokens').limit(12))"
   ]
  },
  {
   "cell_type": "markdown",
   "metadata": {
    "application/vnd.databricks.v1+cell": {
     "cellMetadata": {
      "byteLimit": 2048000,
      "rowLimit": 10000
     },
     "inputWidgets": {},
     "nuid": "91ee506d-963c-4cd1-8f10-d509cb7c8f14",
     "showTitle": false,
     "title": ""
    }
   },
   "source": [
    "\n",
    "# Modeling\n",
    "\n",
    "We will first form word2vec embeddings.\n",
    "We form the document embedding by averaging over the word embeddings.\n",
    "\n",
    "Finally, we can use the document embeddings to compute cosine similarity metrics and use it in K-means clustering."
   ]
  },
  {
   "cell_type": "markdown",
   "metadata": {
    "application/vnd.databricks.v1+cell": {
     "cellMetadata": {
      "byteLimit": 2048000,
      "rowLimit": 10000
     },
     "inputWidgets": {},
     "nuid": "63bf3b41-cbe1-4cdb-b3c6-6fabc9aaea18",
     "showTitle": false,
     "title": ""
    }
   },
   "source": [
    "\n",
    "## Word2Vec embedding\n",
    "\n",
    "To form the Word2Vec embeddings, we will create \\\\( 10 \\\\)-dimensional vectors."
   ]
  },
  {
   "cell_type": "code",
   "execution_count": 0,
   "metadata": {
    "application/vnd.databricks.v1+cell": {
     "cellMetadata": {
      "byteLimit": 2048000,
      "rowLimit": 10000
     },
     "inputWidgets": {},
     "nuid": "6b824d4b-5ec4-489f-841a-aa7959000dbc",
     "showTitle": false,
     "title": ""
    }
   },
   "outputs": [],
   "source": [
    "import mlflow"
   ]
  },
  {
   "cell_type": "code",
   "execution_count": 0,
   "metadata": {
    "application/vnd.databricks.v1+cell": {
     "cellMetadata": {
      "byteLimit": 2048000,
      "rowLimit": 10000
     },
     "inputWidgets": {},
     "nuid": "b73f1af8-45d9-476b-80c0-44ea6770c47d",
     "showTitle": false,
     "title": ""
    }
   },
   "outputs": [],
   "source": [
    "from pyspark.ml.feature import Word2Vec, Normalizer\n",
    "from pyspark.sql.types import DoubleType"
   ]
  },
  {
   "cell_type": "code",
   "execution_count": 0,
   "metadata": {
    "application/vnd.databricks.v1+cell": {
     "cellMetadata": {
      "byteLimit": 2048000,
      "rowLimit": 10000
     },
     "inputWidgets": {},
     "nuid": "b8efcd02-5c71-4271-8494-033f3cf5f891",
     "showTitle": false,
     "title": ""
    }
   },
   "outputs": [
    {
     "output_type": "stream",
     "name": "stderr",
     "output_type": "stream",
     "text": [
      "2023/12/21 09:43:38 INFO mlflow.spark: Inferring pip requirements by reloading the logged model from the databricks artifact repository, which can be time-consuming. To speed up, explicitly specify the conda_env or pip_requirements when calling log_model().\n"
     ]
    },
    {
     "output_type": "display_data",
     "data": {
      "application/vnd.jupyter.widget-view+json": {
       "model_id": "39616a54401d476d831c399f27c82afb",
       "version_major": 2,
       "version_minor": 0
      },
      "text/plain": [
       "Downloading artifacts:   0%|          | 0/9 [00:00<?, ?it/s]"
      ]
     },
     "metadata": {},
     "output_type": "display_data"
    },
    {
     "output_type": "stream",
     "name": "stderr",
     "output_type": "stream",
     "text": [
      "2023/12/21 09:44:07 WARNING mlflow.utils.environment: Encountered an unexpected error while inferring pip requirements (model URI: dbfs:/databricks/mlflow-tracking/313095920668275/fdc5b08114db4979aa9d7751a587ad7e/artifacts/word-model/sparkml, flavor: spark), fall back to return ['pyspark==3.5.0']. Set logging level to DEBUG to see the full traceback.\n/databricks/python/lib/python3.10/site-packages/_distutils_hack/__init__.py:33: UserWarning: Setuptools is replacing distutils.\n  warnings.warn(\"Setuptools is replacing distutils.\")\n"
     ]
    },
    {
     "output_type": "display_data",
     "data": {
      "application/vnd.jupyter.widget-view+json": {
       "model_id": "d22dd62a28a44dce8b98a25b06fc6e66",
       "version_major": 2,
       "version_minor": 0
      },
      "text/plain": [
       "Uploading artifacts:   0%|          | 0/4 [00:00<?, ?it/s]"
      ]
     },
     "metadata": {},
     "output_type": "display_data"
    }
   ],
   "source": [
    "word2vec = Word2Vec(inputCol = 'clean_tokens', vectorSize = 10, outputCol = 'embedding')\n",
    "with mlflow.start_run(run_name = 'run-1') as wordrun:\n",
    "    example_df = df.select('clean_tokens')\n",
    "    model = word2vec.fit(df)\n",
    "    mlflow.spark.log_model(model, \"word-model\", signature=infer)"
   ]
  },
  {
   "cell_type": "code",
   "execution_count": 0,
   "metadata": {
    "application/vnd.databricks.v1+cell": {
     "cellMetadata": {
      "byteLimit": 2048000,
      "rowLimit": 10000
     },
     "inputWidgets": {},
     "nuid": "e7cb7db7-7c94-46e9-86dd-a00934b70e7e",
     "showTitle": false,
     "title": ""
    }
   },
   "outputs": [],
   "source": [
    "df = model.transform(df)"
   ]
  },
  {
   "cell_type": "code",
   "execution_count": 0,
   "metadata": {
    "application/vnd.databricks.v1+cell": {
     "cellMetadata": {
      "byteLimit": 2048000,
      "rowLimit": 10000
     },
     "inputWidgets": {},
     "nuid": "88ff03b1-9610-40de-992c-3b0a771c7e1c",
     "showTitle": false,
     "title": ""
    }
   },
   "outputs": [],
   "source": [
    "from pyspark.ml.functions import vector_to_array"
   ]
  },
  {
   "cell_type": "code",
   "execution_count": 0,
   "metadata": {
    "application/vnd.databricks.v1+cell": {
     "cellMetadata": {
      "byteLimit": 2048000,
      "rowLimit": 10000
     },
     "inputWidgets": {},
     "nuid": "acc75b7b-f7f3-447a-b42f-7339d454c886",
     "showTitle": false,
     "title": ""
    }
   },
   "outputs": [],
   "source": [
    "# Normalize the embedding vectors\n",
    "normalizer = Normalizer(inputCol = 'embedding', outputCol = 'normalized_embedding', p = 2.0)\n",
    "df = normalizer.transform(df)\n",
    "df = df.withColumn('embedding_arr', vector_to_array('normalized_embedding'))"
   ]
  },
  {
   "cell_type": "code",
   "execution_count": 0,
   "metadata": {
    "application/vnd.databricks.v1+cell": {
     "cellMetadata": {
      "byteLimit": 2048000,
      "rowLimit": 10000
     },
     "inputWidgets": {},
     "nuid": "5d9812de-e549-4a3b-9e6b-b458e1bf5b51",
     "showTitle": false,
     "title": ""
    }
   },
   "outputs": [],
   "source": [
    "# Find instances where embedding_arr has length 0\n",
    "# This not happen since we regularize the article embeddings to have length 1.\n",
    "norm_udf = udf(lambda x: sum([el ** 2 for el in x]), DoubleType())\n",
    "df = df.withColumn('embedding_norm', norm_udf('embedding_arr'))"
   ]
  },
  {
   "cell_type": "code",
   "execution_count": 0,
   "metadata": {
    "application/vnd.databricks.v1+cell": {
     "cellMetadata": {
      "byteLimit": 2048000,
      "rowLimit": 10000
     },
     "inputWidgets": {},
     "nuid": "765d8bab-1265-4fc6-b166-b4d7df074c14",
     "showTitle": false,
     "title": ""
    }
   },
   "outputs": [
    {
     "output_type": "display_data",
     "data": {
      "text/html": [
       "<style scoped>\n",
       "  .table-result-container {\n",
       "    max-height: 300px;\n",
       "    overflow: auto;\n",
       "  }\n",
       "  table, th, td {\n",
       "    border: 1px solid black;\n",
       "    border-collapse: collapse;\n",
       "  }\n",
       "  th, td {\n",
       "    padding: 5px;\n",
       "  }\n",
       "  th {\n",
       "    text-align: left;\n",
       "  }\n",
       "</style><div class='table-result-container'><table class='table-result'><thead style='background-color: white'><tr><th>id</th><th>abstract</th></tr></thead><tbody></tbody></table></div>"
      ]
     },
     "metadata": {
      "application/vnd.databricks.v1+output": {
       "addedWidgets": {},
       "aggData": [],
       "aggError": "",
       "aggOverflow": false,
       "aggSchema": [],
       "aggSeriesLimitReached": false,
       "aggType": "",
       "arguments": {},
       "columnCustomDisplayInfos": {},
       "data": [],
       "datasetInfos": [],
       "dbfsResultPath": null,
       "isJsonSchema": true,
       "metadata": {},
       "overflow": false,
       "plotOptions": {
        "customPlotOptions": {},
        "displayType": "table",
        "pivotAggregation": null,
        "pivotColumns": null,
        "xColumns": null,
        "yColumns": null
       },
       "removedWidgets": [],
       "schema": [
        {
         "metadata": "{}",
         "name": "id",
         "type": "\"string\""
        },
        {
         "metadata": "{}",
         "name": "abstract",
         "type": "\"string\""
        }
       ],
       "type": "table"
      }
     },
     "output_type": "display_data"
    }
   ],
   "source": [
    "# View papers with 0 embedding vector and remove them\n",
    "eps = 1e-6\n",
    "display(df.where(df.embedding_norm < eps).select('id', 'abstract'))\n",
    "df = df.filter(df.embedding_norm > eps)"
   ]
  },
  {
   "cell_type": "markdown",
   "metadata": {
    "application/vnd.databricks.v1+cell": {
     "cellMetadata": {
      "byteLimit": 2048000,
      "rowLimit": 10000
     },
     "inputWidgets": {},
     "nuid": "f4cc6165-d330-4a00-aa33-d1507edb7c26",
     "showTitle": false,
     "title": ""
    }
   },
   "source": [
    "\n",
    "## Clustering\n",
    "\n",
    "Now we have the document embeddings, we can now use them to compute cosine metric similarities.\n",
    "Using similarities, we can cluster the documents.\n",
    "\n",
    "The number of clusters must be specified beforehand, we will use \\\\(K = 8\\\\)."
   ]
  },
  {
   "cell_type": "code",
   "execution_count": 0,
   "metadata": {
    "application/vnd.databricks.v1+cell": {
     "cellMetadata": {
      "byteLimit": 2048000,
      "rowLimit": 10000
     },
     "inputWidgets": {},
     "nuid": "8d8a1fd3-eebe-4a77-9e2c-0da1204b0369",
     "showTitle": false,
     "title": ""
    }
   },
   "outputs": [],
   "source": [
    "from pyspark.ml.clustering import KMeans"
   ]
  },
  {
   "cell_type": "code",
   "execution_count": 0,
   "metadata": {
    "application/vnd.databricks.v1+cell": {
     "cellMetadata": {
      "byteLimit": 2048000,
      "rowLimit": 10000
     },
     "inputWidgets": {},
     "nuid": "b2cd1a29-8a17-4a10-88cb-d4c245f7e4be",
     "showTitle": false,
     "title": ""
    }
   },
   "outputs": [
    {
     "output_type": "stream",
     "name": "stderr",
     "output_type": "stream",
     "text": [
      "2023/12/21 09:50:58 INFO mlflow.spark: Inferring pip requirements by reloading the logged model from the databricks artifact repository, which can be time-consuming. To speed up, explicitly specify the conda_env or pip_requirements when calling log_model().\n"
     ]
    },
    {
     "output_type": "display_data",
     "data": {
      "application/vnd.jupyter.widget-view+json": {
       "model_id": "fec852a36516489ca2f8213aba0c1c8c",
       "version_major": 2,
       "version_minor": 0
      },
      "text/plain": [
       "Downloading artifacts:   0%|          | 0/9 [00:00<?, ?it/s]"
      ]
     },
     "metadata": {},
     "output_type": "display_data"
    },
    {
     "output_type": "stream",
     "name": "stderr",
     "output_type": "stream",
     "text": [
      "2023/12/21 09:51:28 WARNING mlflow.utils.environment: Encountered an unexpected error while inferring pip requirements (model URI: dbfs:/databricks/mlflow-tracking/313095920668275/251d51e5b2034a40a48e583af581fc32/artifacts/kmeans-model/sparkml, flavor: spark), fall back to return ['pyspark==3.5.0']. Set logging level to DEBUG to see the full traceback.\n"
     ]
    },
    {
     "output_type": "display_data",
     "data": {
      "application/vnd.jupyter.widget-view+json": {
       "model_id": "11cadd3cc30d4eb1b01d101c07d15813",
       "version_major": 2,
       "version_minor": 0
      },
      "text/plain": [
       "Uploading artifacts:   0%|          | 0/4 [00:00<?, ?it/s]"
      ]
     },
     "metadata": {},
     "output_type": "display_data"
    }
   ],
   "source": [
    "with mlflow.start_run(run_name = 'run-2'):\n",
    "    K = 8\n",
    "    kmeans = KMeans(k = K, distanceMeasure = \"cosine\", featuresCol = 'normalized_embedding', predictionCol = 'prediction', maxIter = 4)\n",
    "    kmeans_model = kmeans.fit(df)\n",
    "    mlflow.spark.log_model(kmeans_model, 'kmeans-model')"
   ]
  },
  {
   "cell_type": "code",
   "execution_count": 0,
   "metadata": {
    "application/vnd.databricks.v1+cell": {
     "cellMetadata": {
      "byteLimit": 2048000,
      "rowLimit": 10000
     },
     "inputWidgets": {},
     "nuid": "35a93337-ce38-40e4-a819-3d71d15cefdc",
     "showTitle": false,
     "title": ""
    }
   },
   "outputs": [],
   "source": [
    "df = kmeans_model.transform(df)"
   ]
  },
  {
   "cell_type": "markdown",
   "metadata": {
    "application/vnd.databricks.v1+cell": {
     "cellMetadata": {
      "byteLimit": 2048000,
      "rowLimit": 10000
     },
     "inputWidgets": {},
     "nuid": "16c7aa21-c5c3-4409-8d24-516e3c8f4b87",
     "showTitle": false,
     "title": ""
    }
   },
   "source": [
    "\n",
    "## PCA decomposition\n",
    "\n",
    "To visualize the data in 2 dimensions we need to map the multidimensional embeddings into the plane. \n",
    "\n",
    "We can use _principal component analysis_ to achieve this. PCA forms linear combinations of the original axis, such that the variance of the dataset is preserved the most. "
   ]
  },
  {
   "cell_type": "code",
   "execution_count": 0,
   "metadata": {
    "application/vnd.databricks.v1+cell": {
     "cellMetadata": {
      "byteLimit": 2048000,
      "rowLimit": 10000
     },
     "inputWidgets": {},
     "nuid": "f1ad5ba9-b40c-4c73-a0df-894f46185da2",
     "showTitle": false,
     "title": ""
    }
   },
   "outputs": [],
   "source": [
    "from pyspark.ml.feature import PCA"
   ]
  },
  {
   "cell_type": "code",
   "execution_count": 0,
   "metadata": {
    "application/vnd.databricks.v1+cell": {
     "cellMetadata": {
      "byteLimit": 2048000,
      "rowLimit": 10000
     },
     "inputWidgets": {},
     "nuid": "76c06f52-726f-440d-86da-90cbdcf199a7",
     "showTitle": false,
     "title": ""
    }
   },
   "outputs": [
    {
     "output_type": "stream",
     "name": "stderr",
     "output_type": "stream",
     "text": [
      "2023/12/21 09:55:33 INFO mlflow.spark: Inferring pip requirements by reloading the logged model from the databricks artifact repository, which can be time-consuming. To speed up, explicitly specify the conda_env or pip_requirements when calling log_model().\n"
     ]
    },
    {
     "output_type": "display_data",
     "data": {
      "application/vnd.jupyter.widget-view+json": {
       "model_id": "7c279c57788b4119b79615a4c10a07e4",
       "version_major": 2,
       "version_minor": 0
      },
      "text/plain": [
       "Downloading artifacts:   0%|          | 0/9 [00:00<?, ?it/s]"
      ]
     },
     "metadata": {},
     "output_type": "display_data"
    },
    {
     "output_type": "stream",
     "name": "stderr",
     "output_type": "stream",
     "text": [
      "2023/12/21 09:56:03 WARNING mlflow.utils.environment: Encountered an unexpected error while inferring pip requirements (model URI: dbfs:/databricks/mlflow-tracking/313095920668275/078141c793ff4082b97af9d4afb738d4/artifacts/pca-model/sparkml, flavor: spark), fall back to return ['pyspark==3.5.0']. Set logging level to DEBUG to see the full traceback.\n"
     ]
    },
    {
     "output_type": "display_data",
     "data": {
      "application/vnd.jupyter.widget-view+json": {
       "model_id": "e9b713e103174dd2a72fca50bf9db461",
       "version_major": 2,
       "version_minor": 0
      },
      "text/plain": [
       "Uploading artifacts:   0%|          | 0/4 [00:00<?, ?it/s]"
      ]
     },
     "metadata": {},
     "output_type": "display_data"
    }
   ],
   "source": [
    "with mlflow.start_run(run_name = 'run-3'):\n",
    "    pca = PCA(k = 2, inputCol = 'normalized_embedding', outputCol = 'pca_features')\n",
    "    pca_model = pca.fit(df)\n",
    "    mlflow.spark.log_model(pca_model, 'pca-model')"
   ]
  },
  {
   "cell_type": "code",
   "execution_count": 0,
   "metadata": {
    "application/vnd.databricks.v1+cell": {
     "cellMetadata": {
      "byteLimit": 2048000,
      "rowLimit": 10000
     },
     "inputWidgets": {},
     "nuid": "34f425f1-7dbf-4232-9121-b48e30ede516",
     "showTitle": false,
     "title": ""
    }
   },
   "outputs": [],
   "source": [
    "df = pca_model.transform(df)\n",
    "df = df.withColumn('pca_features', vector_to_array('pca_features'))"
   ]
  },
  {
   "cell_type": "code",
   "execution_count": 0,
   "metadata": {
    "application/vnd.databricks.v1+cell": {
     "cellMetadata": {
      "byteLimit": 2048000,
      "rowLimit": 10000
     },
     "inputWidgets": {},
     "nuid": "da1aabfc-212f-4052-8d33-4f4ddbf12909",
     "showTitle": false,
     "title": ""
    }
   },
   "outputs": [
    {
     "output_type": "display_data",
     "data": {
      "text/html": [
       "<style scoped>\n",
       "  .table-result-container {\n",
       "    max-height: 300px;\n",
       "    overflow: auto;\n",
       "  }\n",
       "  table, th, td {\n",
       "    border: 1px solid black;\n",
       "    border-collapse: collapse;\n",
       "  }\n",
       "  th, td {\n",
       "    padding: 5px;\n",
       "  }\n",
       "  th {\n",
       "    text-align: left;\n",
       "  }\n",
       "</style><div class='table-result-container'><table class='table-result'><thead style='background-color: white'><tr><th>id</th><th>authors_parsed</th><th>categories</th><th>submitter</th><th>update_date</th><th>title</th><th>abstract</th><th>embedding_arr</th><th>prediction</th><th>pca_features</th><th>year</th></tr></thead><tbody><tr><td>2305.02649</td><td>List(List(Guo, Ke, ), List(Jing, Wei, ), List(Chen, Junbo, ), List(Pan, Jia, ))</td><td>cs.RO</td><td>Ke Guo</td><td>2023-05-05</td><td>CCIL: Context-conditioned imitation learning for urban driving</td><td>  Imitation learning holds great promise for addressing the complex task of\n",
       "autonomous urban driving, as experienced human drivers can navigate highly\n",
       "challenging scenarios with ease. While behavior cloning is a widely used\n",
       "imitation learning approach in autonomous driving due to its exemption from\n",
       "risky online interactions, it suffers from the covariate shift issue. To\n",
       "address this limitation, we propose a context-conditioned imitation learning\n",
       "approach that employs a policy to map the context state into the ego vehicle's\n",
       "future trajectory, rather than relying on the traditional formulation of both\n",
       "ego and context states to predict the ego action. Additionally, to reduce the\n",
       "implicit ego information in the coordinate system, we design an ego-perturbed\n",
       "goal-oriented coordinate system. The origin of this coordinate system is the\n",
       "ego vehicle's position plus a zero mean Gaussian perturbation, and the x-axis\n",
       "direction points towards its goal position. Our experiments on the real-world\n",
       "large-scale Lyft and nuPlan datasets show that our method significantly\n",
       "outperforms state-of-the-art approaches.\n",
       "</td><td>List(0.26779809606130345, -0.021201288226136154, 0.059815622754490295, -0.33218383169904886, 0.22754517692028842, 0.09961459858577139, -0.290823463809687, -0.43780028804579235, 0.01846008760990836, 0.6896540063066591)</td><td>4</td><td>List(-0.06838093397805217, -0.26521568090144404)</td><td>2023</td></tr><tr><td>2305.02677</td><td>List(List(Wang, Teng, ), List(Zhang, Jinrui, ), List(Fei, Junjie, ), List(Zheng, Hao, ), List(Tang, Yunlong, ), List(Li, Zhe, ), List(Gao, Mingqi, ), List(Zhao, Shanshan, ))</td><td>cs.CV</td><td>Teng Wang</td><td>2023-07-07</td><td>Caption Anything: Interactive Image Description with Diverse Multimodal\n",
       "  Controls</td><td>  Controllable image captioning is an emerging multimodal topic that aims to\n",
       "describe the image with natural language following human purpose,\n",
       "$\\textit{e.g.}$, looking at the specified regions or telling in a particular\n",
       "text style. State-of-the-art methods are trained on annotated pairs of input\n",
       "controls and output captions. However, the scarcity of such well-annotated\n",
       "multimodal data largely limits their usability and scalability for interactive\n",
       "AI systems. Leveraging unimodal instruction-following foundation models is a\n",
       "promising alternative that benefits from broader sources of data. In this\n",
       "paper, we present Caption AnyThing (CAT), a foundation model augmented image\n",
       "captioning framework supporting a wide range of multimodel controls: 1) visual\n",
       "controls, including points, boxes, and trajectories; 2) language controls, such\n",
       "as sentiment, length, language, and factuality. Powered by Segment Anything\n",
       "Model (SAM) and ChatGPT, we unify the visual and language prompts into a\n",
       "modularized framework, enabling the flexible combination between different\n",
       "controls. Extensive case studies demonstrate the user intention alignment\n",
       "capabilities of our framework, shedding light on effective user interaction\n",
       "modeling in vision-language applications. Our code is publicly available at\n",
       "https://github.com/ttengwang/Caption-Anything.\n",
       "</td><td>List(0.38816387190649027, -0.2384371930654559, 0.4529631938748501, -0.46817670581690235, 0.22739352085421488, 0.28351875146127364, -0.11113484039391547, -0.15463716094418192, 0.24044627179566155, 0.37675286457229534)</td><td>2</td><td>List(-0.06990281570148421, -0.5280882523295725)</td><td>2023</td></tr><tr><td>2305.02690</td><td>List(List(Cheon, Gi-Sang, ), List(Kang, Bumtle, ), List(Kim, Suh-Ryung, ), List(Ryu, Homoon, ))</td><td>math.CO</td><td>Bumtle Kang</td><td>2023-05-05</td><td>Row graphs of Toeplitz matrices</td><td>  In this paper, we study row graphs of Toeplitz matrices. The notion of row\n",
       "graphs was introduced by Greenberg et al. in 1984 and is closely related to the\n",
       "notion of competition graphs, which has been extensively studied since Cohen\n",
       "had introduced it in 1968.\n",
       "  To understand the structure of the row graphs of Toeplitz matrices, which\n",
       "seem to be quite complicated, we have begun with Toeplitz matrices whose row\n",
       "graphs are triangle-free. We could show that if the row graph G of a Toeplitz\n",
       "matrix T is triangle-free, then T has the maximum row sum at most 2.\n",
       "Furthermore, it turns out that G is a disjoint union of paths and cycles whose\n",
       "lengths cannot vary that much in such a case. Then we study (0, 1)-Toeplitz\n",
       "matrices whose row graphs have only path components, only cycle components, and\n",
       "a cycle component of specific length, respectively. In particular, we\n",
       "completely characterize a (0, 1)-Toeplitz matrix whose row graph is a cycle.\n",
       "</td><td>List(0.4261522909628924, -0.2573273896462248, -0.24571799918690904, -0.08386825564391794, -0.2512798986686927, -0.3437523851491704, 0.18974223723096262, -0.6657239695801047, -0.05910041328188241, 0.1441351835329684)</td><td>3</td><td>List(-0.6009653499864132, 0.339198432436339)</td><td>2023</td></tr></tbody></table></div>"
      ]
     },
     "metadata": {
      "application/vnd.databricks.v1+output": {
       "addedWidgets": {},
       "aggData": [],
       "aggError": "",
       "aggOverflow": false,
       "aggSchema": [],
       "aggSeriesLimitReached": false,
       "aggType": "",
       "arguments": {},
       "columnCustomDisplayInfos": {},
       "data": [
        [
         "2305.02649",
         [
          [
           "Guo",
           "Ke",
           ""
          ],
          [
           "Jing",
           "Wei",
           ""
          ],
          [
           "Chen",
           "Junbo",
           ""
          ],
          [
           "Pan",
           "Jia",
           ""
          ]
         ],
         "cs.RO",
         "Ke Guo",
         "2023-05-05",
         "CCIL: Context-conditioned imitation learning for urban driving",
         "  Imitation learning holds great promise for addressing the complex task of\nautonomous urban driving, as experienced human drivers can navigate highly\nchallenging scenarios with ease. While behavior cloning is a widely used\nimitation learning approach in autonomous driving due to its exemption from\nrisky online interactions, it suffers from the covariate shift issue. To\naddress this limitation, we propose a context-conditioned imitation learning\napproach that employs a policy to map the context state into the ego vehicle's\nfuture trajectory, rather than relying on the traditional formulation of both\nego and context states to predict the ego action. Additionally, to reduce the\nimplicit ego information in the coordinate system, we design an ego-perturbed\ngoal-oriented coordinate system. The origin of this coordinate system is the\nego vehicle's position plus a zero mean Gaussian perturbation, and the x-axis\ndirection points towards its goal position. Our experiments on the real-world\nlarge-scale Lyft and nuPlan datasets show that our method significantly\noutperforms state-of-the-art approaches.\n",
         [
          0.26779809606130345,
          -0.021201288226136154,
          0.059815622754490295,
          -0.33218383169904886,
          0.22754517692028842,
          0.09961459858577139,
          -0.290823463809687,
          -0.43780028804579235,
          0.01846008760990836,
          0.6896540063066591
         ],
         4,
         [
          -0.06838093397805217,
          -0.26521568090144404
         ],
         2023
        ],
        [
         "2305.02677",
         [
          [
           "Wang",
           "Teng",
           ""
          ],
          [
           "Zhang",
           "Jinrui",
           ""
          ],
          [
           "Fei",
           "Junjie",
           ""
          ],
          [
           "Zheng",
           "Hao",
           ""
          ],
          [
           "Tang",
           "Yunlong",
           ""
          ],
          [
           "Li",
           "Zhe",
           ""
          ],
          [
           "Gao",
           "Mingqi",
           ""
          ],
          [
           "Zhao",
           "Shanshan",
           ""
          ]
         ],
         "cs.CV",
         "Teng Wang",
         "2023-07-07",
         "Caption Anything: Interactive Image Description with Diverse Multimodal\n  Controls",
         "  Controllable image captioning is an emerging multimodal topic that aims to\ndescribe the image with natural language following human purpose,\n$\\textit{e.g.}$, looking at the specified regions or telling in a particular\ntext style. State-of-the-art methods are trained on annotated pairs of input\ncontrols and output captions. However, the scarcity of such well-annotated\nmultimodal data largely limits their usability and scalability for interactive\nAI systems. Leveraging unimodal instruction-following foundation models is a\npromising alternative that benefits from broader sources of data. In this\npaper, we present Caption AnyThing (CAT), a foundation model augmented image\ncaptioning framework supporting a wide range of multimodel controls: 1) visual\ncontrols, including points, boxes, and trajectories; 2) language controls, such\nas sentiment, length, language, and factuality. Powered by Segment Anything\nModel (SAM) and ChatGPT, we unify the visual and language prompts into a\nmodularized framework, enabling the flexible combination between different\ncontrols. Extensive case studies demonstrate the user intention alignment\ncapabilities of our framework, shedding light on effective user interaction\nmodeling in vision-language applications. Our code is publicly available at\nhttps://github.com/ttengwang/Caption-Anything.\n",
         [
          0.38816387190649027,
          -0.2384371930654559,
          0.4529631938748501,
          -0.46817670581690235,
          0.22739352085421488,
          0.28351875146127364,
          -0.11113484039391547,
          -0.15463716094418192,
          0.24044627179566155,
          0.37675286457229534
         ],
         2,
         [
          -0.06990281570148421,
          -0.5280882523295725
         ],
         2023
        ],
        [
         "2305.02690",
         [
          [
           "Cheon",
           "Gi-Sang",
           ""
          ],
          [
           "Kang",
           "Bumtle",
           ""
          ],
          [
           "Kim",
           "Suh-Ryung",
           ""
          ],
          [
           "Ryu",
           "Homoon",
           ""
          ]
         ],
         "math.CO",
         "Bumtle Kang",
         "2023-05-05",
         "Row graphs of Toeplitz matrices",
         "  In this paper, we study row graphs of Toeplitz matrices. The notion of row\ngraphs was introduced by Greenberg et al. in 1984 and is closely related to the\nnotion of competition graphs, which has been extensively studied since Cohen\nhad introduced it in 1968.\n  To understand the structure of the row graphs of Toeplitz matrices, which\nseem to be quite complicated, we have begun with Toeplitz matrices whose row\ngraphs are triangle-free. We could show that if the row graph G of a Toeplitz\nmatrix T is triangle-free, then T has the maximum row sum at most 2.\nFurthermore, it turns out that G is a disjoint union of paths and cycles whose\nlengths cannot vary that much in such a case. Then we study (0, 1)-Toeplitz\nmatrices whose row graphs have only path components, only cycle components, and\na cycle component of specific length, respectively. In particular, we\ncompletely characterize a (0, 1)-Toeplitz matrix whose row graph is a cycle.\n",
         [
          0.4261522909628924,
          -0.2573273896462248,
          -0.24571799918690904,
          -0.08386825564391794,
          -0.2512798986686927,
          -0.3437523851491704,
          0.18974223723096262,
          -0.6657239695801047,
          -0.05910041328188241,
          0.1441351835329684
         ],
         3,
         [
          -0.6009653499864132,
          0.339198432436339
         ],
         2023
        ]
       ],
       "datasetInfos": [],
       "dbfsResultPath": null,
       "isJsonSchema": true,
       "metadata": {},
       "overflow": false,
       "plotOptions": {
        "customPlotOptions": {},
        "displayType": "table",
        "pivotAggregation": null,
        "pivotColumns": null,
        "xColumns": null,
        "yColumns": null
       },
       "removedWidgets": [],
       "schema": [
        {
         "metadata": "{}",
         "name": "id",
         "type": "\"string\""
        },
        {
         "metadata": "{}",
         "name": "authors_parsed",
         "type": "{\"type\":\"array\",\"elementType\":{\"type\":\"array\",\"elementType\":\"string\",\"containsNull\":true},\"containsNull\":true}"
        },
        {
         "metadata": "{}",
         "name": "categories",
         "type": "\"string\""
        },
        {
         "metadata": "{}",
         "name": "submitter",
         "type": "\"string\""
        },
        {
         "metadata": "{}",
         "name": "update_date",
         "type": "\"string\""
        },
        {
         "metadata": "{}",
         "name": "title",
         "type": "\"string\""
        },
        {
         "metadata": "{}",
         "name": "abstract",
         "type": "\"string\""
        },
        {
         "metadata": "{}",
         "name": "embedding_arr",
         "type": "{\"type\":\"array\",\"elementType\":\"double\",\"containsNull\":false}"
        },
        {
         "metadata": "{\"ml_attr\":{\"type\":\"nominal\",\"num_vals\":8}}",
         "name": "prediction",
         "type": "\"integer\""
        },
        {
         "metadata": "{}",
         "name": "pca_features",
         "type": "{\"type\":\"array\",\"elementType\":\"double\",\"containsNull\":false}"
        },
        {
         "metadata": "{}",
         "name": "year",
         "type": "\"integer\""
        }
       ],
       "type": "table"
      }
     },
     "output_type": "display_data"
    }
   ],
   "source": [
    "# Save the result in Delta table\n",
    "selectable_columns = ['id', 'authors_parsed', 'categories', 'submitter', 'update_date', 'title', 'abstract', 'embedding_arr', 'prediction', 'pca_features', 'year']\n",
    "display(df.select(*selectable_columns).limit(3))"
   ]
  },
  {
   "cell_type": "code",
   "execution_count": 0,
   "metadata": {
    "application/vnd.databricks.v1+cell": {
     "cellMetadata": {
      "byteLimit": 2048000,
      "rowLimit": 10000
     },
     "inputWidgets": {},
     "nuid": "c035fedc-11bd-415b-bc6a-dda3f46852b1",
     "showTitle": false,
     "title": ""
    }
   },
   "outputs": [],
   "source": [
    "df.select(*selectable_columns).write.mode('overwrite').option('mergeSchema', 'true').format('delta').saveAsTable('main.default.ARXIV_ANALYSIS')"
   ]
  },
  {
   "cell_type": "markdown",
   "metadata": {
    "application/vnd.databricks.v1+cell": {
     "cellMetadata": {},
     "inputWidgets": {},
     "nuid": "770a47ac-ce6b-479c-ad48-75d5b4e6ea6a",
     "showTitle": false,
     "title": ""
    }
   },
   "source": [
    "\n",
    "## Registering model\n",
    "\n",
    "Now we have created the relevant models and stored the inference in a table. We can do the visualization now in a separate notebook.\n",
    "\n",
    "However, we should build a pipeline of the steps made in order to save and register the total model."
   ]
  },
  {
   "cell_type": "code",
   "execution_count": 0,
   "metadata": {
    "application/vnd.databricks.v1+cell": {
     "cellMetadata": {
      "byteLimit": 2048000,
      "rowLimit": 10000
     },
     "inputWidgets": {},
     "nuid": "5279fe75-429a-4457-8bd0-42c49b75874c",
     "showTitle": false,
     "title": ""
    }
   },
   "outputs": [],
   "source": [
    "from pyspark.ml import Pipeline \n",
    "from mlflow.models.signature import infer_signature"
   ]
  },
  {
   "cell_type": "code",
   "execution_count": 0,
   "metadata": {
    "application/vnd.databricks.v1+cell": {
     "cellMetadata": {
      "byteLimit": 2048000,
      "rowLimit": 10000
     },
     "inputWidgets": {},
     "nuid": "09c16138-080e-4eb6-ad9d-0c4c6e66d9be",
     "showTitle": false,
     "title": ""
    }
   },
   "outputs": [],
   "source": [
    "word2vec = Word2Vec(inputCol = 'clean_tokens', vectorSize = 10, outputCol = 'embedding')\n",
    "normalizer = Normalizer(inputCol = 'embedding', outputCol = 'normalized_embedding', p = 2.0)\n",
    "\n",
    "K = 8\n",
    "kmeans = KMeans(k = K, distanceMeasure = \"cosine\", featuresCol = 'normalized_embedding', predictionCol = 'prediction', maxIter = 4)\n",
    "pca = PCA(k = 2, inputCol = 'normalized_embedding', outputCol = 'pca_features')\n",
    "\n",
    "pipeline = Pipeline(stages=[word_tokenizer, stop_words_remover, word2vec, normalizer, kmeans, pca])"
   ]
  },
  {
   "cell_type": "code",
   "execution_count": 0,
   "metadata": {
    "application/vnd.databricks.v1+cell": {
     "cellMetadata": {
      "byteLimit": 2048000,
      "rowLimit": 10000
     },
     "inputWidgets": {},
     "nuid": "bb36bef4-e766-48d8-894c-f75971da47ee",
     "showTitle": false,
     "title": ""
    }
   },
   "outputs": [
    {
     "output_type": "stream",
     "name": "stderr",
     "output_type": "stream",
     "text": [
      "/databricks/python/lib/python3.10/site-packages/mlflow/models/signature.py:213: UserWarning: Hint: Inferred schema contains integer column(s). Integer columns in Python cannot represent missing values. If your input data contains missing values at inference time, it will be encoded as floats and will cause a schema enforcement error. The best way to avoid this problem is to infer the model schema based on a realistic data sample (training dataset) that includes missing values. Alternatively, you can declare integer columns as doubles (float64) whenever these columns may have missing values. See `Handling Integers With Missing Values <https://www.mlflow.org/docs/latest/models.html#handling-integers-with-missing-values>`_ for more details.\n  outputs = _infer_schema(model_output) if model_output is not None else None\n2023/12/21 10:48:46 INFO mlflow.spark: Inferring pip requirements by reloading the logged model from the databricks artifact repository, which can be time-consuming. To speed up, explicitly specify the conda_env or pip_requirements when calling log_model().\n"
     ]
    },
    {
     "output_type": "display_data",
     "data": {
      "application/vnd.jupyter.widget-view+json": {
       "model_id": "f3cc5c2d2f334e54aaf55f7ecfabc5d9",
       "version_major": 2,
       "version_minor": 0
      },
      "text/plain": [
       "Downloading artifacts:   0%|          | 0/29 [00:00<?, ?it/s]"
      ]
     },
     "metadata": {},
     "output_type": "display_data"
    },
    {
     "output_type": "stream",
     "name": "stderr",
     "output_type": "stream",
     "text": [
      "2023/12/21 10:48:49 INFO mlflow.store.artifact.artifact_repo: The progress bar can be disabled by setting the environment variable MLFLOW_ENABLE_ARTIFACTS_PROGRESS_BAR to false\n2023/12/21 10:49:20 WARNING mlflow.utils.environment: Encountered an unexpected error while inferring pip requirements (model URI: dbfs:/databricks/mlflow-tracking/313095920668275/01ca3e231e4a4cc39b1dc769f51a7659/artifacts/arxiv-model/sparkml, flavor: spark), fall back to return ['pyspark==3.5.0']. Set logging level to DEBUG to see the full traceback.\n"
     ]
    },
    {
     "output_type": "display_data",
     "data": {
      "application/vnd.jupyter.widget-view+json": {
       "model_id": "2eaff30175624abca093753b356a4e81",
       "version_major": 2,
       "version_minor": 0
      },
      "text/plain": [
       "Uploading artifacts:   0%|          | 0/4 [00:00<?, ?it/s]"
      ]
     },
     "metadata": {},
     "output_type": "display_data"
    }
   ],
   "source": [
    "with mlflow.start_run(run_name = 'pipeline-run-1'):\n",
    "    train_features = df.select('abstract_math_free')\n",
    "    pipeline_model = pipeline.fit(train_features)\n",
    "    predictions = pipeline_model.transform(train_features)\n",
    "    output_signature = predictions.select('abstract_math_free', 'prediction')\n",
    "    signature = infer_signature(train_features, output_signature)\n",
    "    mlflow.spark.log_model(pipeline_model, 'arxiv-model', signature = signature)"
   ]
  },
  {
   "cell_type": "code",
   "execution_count": 0,
   "metadata": {
    "application/vnd.databricks.v1+cell": {
     "cellMetadata": {
      "byteLimit": 2048000,
      "rowLimit": 10000
     },
     "inputWidgets": {},
     "nuid": "9c0821a4-81f0-4606-bc82-2a8c1b9745b7",
     "showTitle": false,
     "title": ""
    }
   },
   "outputs": [
    {
     "output_type": "stream",
     "name": "stderr",
     "output_type": "stream",
     "text": [
      "Successfully registered model 'main.default.axiv_classifier'.\n"
     ]
    },
    {
     "output_type": "display_data",
     "data": {
      "application/vnd.jupyter.widget-view+json": {
       "model_id": "d7a0dc9baace4035b7b2e6973139807d",
       "version_major": 2,
       "version_minor": 0
      },
      "text/plain": [
       "Downloading artifacts:   0%|          | 0/33 [00:00<?, ?it/s]"
      ]
     },
     "metadata": {},
     "output_type": "display_data"
    },
    {
     "output_type": "stream",
     "name": "stderr",
     "output_type": "stream",
     "text": [
      "2023/12/21 10:50:18 INFO mlflow.store.artifact.artifact_repo: The progress bar can be disabled by setting the environment variable MLFLOW_ENABLE_ARTIFACTS_PROGRESS_BAR to false\n"
     ]
    },
    {
     "output_type": "display_data",
     "data": {
      "application/vnd.jupyter.widget-view+json": {
       "model_id": "377b037f63344f1c91768e9c5938b768",
       "version_major": 2,
       "version_minor": 0
      },
      "text/plain": [
       "Uploading artifacts:   0%|          | 0/33 [00:00<?, ?it/s]"
      ]
     },
     "metadata": {},
     "output_type": "display_data"
    },
    {
     "output_type": "stream",
     "name": "stderr",
     "output_type": "stream",
     "text": [
      "2023/12/21 10:50:23 INFO mlflow.store.artifact.cloud_artifact_repo: The progress bar can be disabled by setting the environment variable MLFLOW_ENABLE_ARTIFACTS_PROGRESS_BAR to false\nCreated version '1' of model 'main.default.axiv_classifier'.\n"
     ]
    },
    {
     "output_type": "execute_result",
     "data": {
      "text/plain": [
       "<ModelVersion: aliases=[], creation_timestamp=1703155818363, current_stage=None, description='', last_updated_timestamp=1703155825660, name='main.default.axiv_classifier', run_id='01ca3e231e4a4cc39b1dc769f51a7659', run_link=None, source='dbfs:/databricks/mlflow-tracking/313095920668275/01ca3e231e4a4cc39b1dc769f51a7659/artifacts/arxiv-model', status='READY', status_message='', tags={}, user_id='tuomas.myllymaki98@outlook.com', version='1'>"
      ]
     },
     "execution_count": 46,
     "metadata": {},
     "output_type": "execute_result"
    }
   ],
   "source": [
    "catalog = \"main\"\n",
    "schema = \"default\"\n",
    "model_name = \"axiv_classifier\"\n",
    "mlflow.set_registry_uri(\"databricks-uc\")\n",
    "mlflow.register_model(\n",
    "    model_uri=\"runs:/01ca3e231e4a4cc39b1dc769f51a7659/arxiv-model\",\n",
    "    name=f\"{catalog}.{schema}.{model_name}\"\n",
    ")"
   ]
  },
  {
   "cell_type": "markdown",
   "metadata": {
    "application/vnd.databricks.v1+cell": {
     "cellMetadata": {},
     "inputWidgets": {},
     "nuid": "a6f4b31b-46de-43f2-8607-fb0a1c61d07e",
     "showTitle": false,
     "title": ""
    }
   },
   "source": [
    "\n",
    "# Endpoint querying\n",
    "\n",
    "Now after registering the models and creating and endpoint, we can query it. After querying, we should get a prediction of the cluster."
   ]
  },
  {
   "cell_type": "code",
   "execution_count": 0,
   "metadata": {
    "application/vnd.databricks.v1+cell": {
     "cellMetadata": {
      "byteLimit": 2048000,
      "rowLimit": 10000
     },
     "inputWidgets": {},
     "nuid": "0ff00298-5c8d-49ca-8293-134b850acef6",
     "showTitle": false,
     "title": ""
    }
   },
   "outputs": [],
   "source": [
    "import os, requests, json\n",
    "import pandas as pd"
   ]
  },
  {
   "cell_type": "code",
   "execution_count": 0,
   "metadata": {
    "application/vnd.databricks.v1+cell": {
     "cellMetadata": {
      "byteLimit": 2048000,
      "rowLimit": 10000
     },
     "inputWidgets": {},
     "nuid": "28b3b6a8-2518-4175-9c10-7f348b7a3546",
     "showTitle": false,
     "title": ""
    }
   },
   "outputs": [],
   "source": [
    "headers = {'Authorization': f'Bearer {secret_key}', 'Content-Type': 'application/json'}\n",
    "dataset = pd.DataFrame({\n",
    "    \"abstract_math_free\": [\"This is a test. We can consider calculating the mass of the sun by using radio spectrotrometry.\"]\n",
    "})\n",
    "ds_dict = {'dataframe_split': dataset.to_dict(orient='split')} if isinstance(dataset, pd.DataFrame) else create_tf_serving_json(dataset)\n",
    "data_json = json.dumps(ds_dict, allow_nan=True)\n",
    "response = requests.request(method='POST', headers=headers, url=url, data=data_json)\n",
    "if response.status_code != 200:\n",
    "    raise Exception(f'Request failed with status {response.status_code}, {response.text}')"
   ]
  },
  {
   "cell_type": "code",
   "execution_count": 0,
   "metadata": {
    "application/vnd.databricks.v1+cell": {
     "cellMetadata": {
      "byteLimit": 2048000,
      "rowLimit": 10000
     },
     "inputWidgets": {},
     "nuid": "e20c7375-e6a7-4cdf-9860-b629a2609caf",
     "showTitle": false,
     "title": ""
    }
   },
   "outputs": [
    {
     "output_type": "execute_result",
     "data": {
      "text/plain": [
       "[5]"
      ]
     },
     "execution_count": 13,
     "metadata": {},
     "output_type": "execute_result"
    }
   ],
   "source": [
    "response_json = json.loads(response.text)\n",
    "predictions = response_json['predictions']\n",
    "predictions"
   ]
  },
  {
   "cell_type": "markdown",
   "metadata": {
    "application/vnd.databricks.v1+cell": {
     "cellMetadata": {},
     "inputWidgets": {},
     "nuid": "a66b58d0-89f0-42f9-9f55-57a5d3a4507c",
     "showTitle": false,
     "title": ""
    }
   },
   "source": [
    "\n",
    "So our model thinks the example is in group 5.\n",
    "\n",
    "We can try and compare our test abstract to other abstracts in the group 5. "
   ]
  },
  {
   "cell_type": "code",
   "execution_count": 0,
   "metadata": {
    "application/vnd.databricks.v1+cell": {
     "cellMetadata": {
      "byteLimit": 2048000,
      "rowLimit": 10000
     },
     "inputWidgets": {},
     "nuid": "e5bf5b70-79ea-4869-bc02-ee9fe1e362ca",
     "showTitle": false,
     "title": ""
    }
   },
   "outputs": [
    {
     "output_type": "display_data",
     "data": {
      "text/html": [
       "<style scoped>\n",
       "  .table-result-container {\n",
       "    max-height: 300px;\n",
       "    overflow: auto;\n",
       "  }\n",
       "  table, th, td {\n",
       "    border: 1px solid black;\n",
       "    border-collapse: collapse;\n",
       "  }\n",
       "  th, td {\n",
       "    padding: 5px;\n",
       "  }\n",
       "  th {\n",
       "    text-align: left;\n",
       "  }\n",
       "</style><div class='table-result-container'><table class='table-result'><thead style='background-color: white'><tr><th>id</th><th>abstract</th></tr></thead><tbody><tr><td>2207.03898</td><td>  Statistical classification of the Helios solar wind observations into several\n",
       "populations sorted by bulk speed has revealed an outward acceleration of the\n",
       "wind. The faster the wind is, the smaller is this acceleration in the 0.3 - 1\n",
       "au radial range (Maksimovic et al. 2020). In this article we show that recent\n",
       "measurements from the Parker Solar Probe (PSP) are compatible with an extension\n",
       "closer to the Sun of the latter Helios classification. For instance the well\n",
       "established bulk speed/proton temperature (u,Tp) correlation and bulk\n",
       "speed/electron temperature (u,Te) anti-correlation, together with the\n",
       "acceleration of the slowest winds, are verified in PSP data. We also model the\n",
       "combined PSP and Helios data, using empirical Parker-like models for which the\n",
       "solar wind undergoes an \"iso-poly\" expansion: isothermal in the corona, then\n",
       "polytropic at distances larger than the sonic point radius. The polytropic\n",
       "indices are derived from the observed temperature and density gradients. Our\n",
       "modelling reveals that the electron thermal pressure has a major contribution\n",
       "in the acceleration process of slow and intermediate winds (in the range of\n",
       "300-500 km/s at 1 au), over a broad range of distances and that the global\n",
       "(electron and protons) thermal energy, alone, is able to explain the\n",
       "acceleration profiles. Moreover, we show that the very slow solar wind requires\n",
       "in addition to the observed pressure gradients, another source of acceleration.\n",
       "</td></tr><tr><td>2207.03903</td><td>  We report the discovery of five cyano derivatives of propene towards TMC-1\n",
       "with the QUIJOTE line survey: $trans$ and $cis$-crotononitrile\n",
       "($t$-CH$_3$CHCHCN, $c$-CH$_3$CHCHCN), methacrylonitrile (CH$_2$C(CH$_3$)CN),\n",
       "and $gauche$ and $cis$-allyl cyanide ($g$-CH$_2$CHCH$_2$CN and\n",
       "$c$-CH$_2$CHCH$_2$CN). The observed transitions allowed us to derive a common\n",
       "rotational temperature of 7$\\pm$1 K for all them. The derived column densities\n",
       "are N($t$-CH$_3$CHCHCN)=(5$\\pm$0.5)$\\times$10$^{10}$ cm$^{-2}$,\n",
       "N($c$-CH$_3$CHCHCN)=(1.3$\\pm$0.2)$\\times$10$^{11}$ cm$^{-2}$,\n",
       "N(CH$_2$C(CH$_3$)CN)=(1.0$\\pm$0.1)$\\times$10$^{11}$ cm$^{-2}$,\n",
       "N($g$-CH$_2$CHCH$_2$CN)=(8.0$\\pm$0.8)$\\times$10$^{10}$ cm$^{-2}$, and\n",
       "N($c$-CH$_2$CHCH$_2$CN)=(7.0$\\pm$0.7)$\\times$10$^{10}$ cm$^{-2}$, respectively.\n",
       "The abundance of cyano-propene relative to that of propene is thus\n",
       "$\\sim$10$^{-2}$, which is considerably lower than those of other cyano\n",
       "derivatives of abundant hydrocarbons. Upper limits are obtained for two ethynyl\n",
       "derivatives of propene ($E$ and $Z$-CH$_3$CHCHCCH).\n",
       "</td></tr><tr><td>2207.03968</td><td>  We analyze the galaxy pairs in a set of volume limited samples from the SDSS\n",
       "to study the effects of minor interactions on the star formation rate (SFR) and\n",
       "colour of galaxies. We carefully design control samples of the isolated\n",
       "galaxies by matching the stellar mass and redshift of the minor pairs. The SFR\n",
       "distributions and colour distributions in the minor pairs differ from their\n",
       "controls at $>99\\%$ significance level. We also simultaneously match the\n",
       "control galaxies in stellar mass, redshift and local density to assess the role\n",
       "of the environment. The null hypothesis can be rejected at $>99\\%$ confidence\n",
       "level even after matching the environment. Our analysis shows a quenching in\n",
       "the minor pairs where the degree of quenching decreases with the increasing\n",
       "pair separation and plateaus beyond 50 kpc. We also prepare a sample of minor\n",
       "pairs with $H_{\\alpha}$ line information. We calculate the SFR of these\n",
       "galaxies using the $H_{\\alpha}$ line and repeat our analysis. We observe a\n",
       "quenching in the $H_{\\alpha}$ sample too. We find that the majority of the\n",
       "minor pairs are quiescent systems that could be quenched due to minor\n",
       "interactions. Combining data from the Galaxy Zoo and Galaxy Zoo2, we find that\n",
       "only $\\sim 1\\%$ galaxies have a dominant bulge, $4\\%-7\\%$ galaxies host a bar,\n",
       "and $5\\%-10\\%$ galaxies show the AGN activity in minor pairs. This indicates\n",
       "that the presence of bulge, bar and AGN activity plays an insignificant role in\n",
       "quenching the galaxies in minor pairs. The more massive companion satisfies the\n",
       "criteria for mass quenching in most of the minor pairs. We propose that the\n",
       "stripping and starvation likely caused the quenching in the less massive\n",
       "companion at a later stage of evolution.\n",
       "</td></tr><tr><td>2207.04039</td><td>  The bias of dark matter halos and galaxies is a crucial quantity in many\n",
       "cosmological analyses. In this work, using large cosmological simulations, we\n",
       "explore the halo mass function and halo bias within cosmic voids. For the first\n",
       "time to date, we show that they are scale-dependent along the void profile, and\n",
       "provide a predictive theoretical model of both the halo mass function and halo\n",
       "bias inside voids, recovering for the latter and 1% accuracy against simulated\n",
       "data. These findings may help shed light on the dynamics of halo formation\n",
       "within voids and improve the analysis of several void statistics from ongoing\n",
       "and upcoming galaxy surveys.\n",
       "</td></tr><tr><td>2207.04210</td><td>  Thanks to relatively firm mode identification, possible based on period\n",
       "ratios only, High Amplitude Delta Scuti Stars pulsating in at least three\n",
       "radial modes are promising targets for asteroseismic inference. In this study\n",
       "we used the most numerous sample of HADS from the OGLE inner bulge fields that\n",
       "likely pulsate in either three or four radial modes simultaneously. We have\n",
       "computed a grid of pulsation models along evolutionary tracks and determined\n",
       "the physical parameters of stars by matching their pulsation periods and period\n",
       "ratios. For 176 HADS we determined physical parameters, i.e. masses,\n",
       "luminosities, effective temperatures, metallicities and ages. We present the\n",
       "distribution of physical parameters and discuss their properties. We selected\n",
       "16 candidates for SX Phoenicis stars.\n",
       "</td></tr><tr><td>2207.04269</td><td>  Chemical models and experiments indicate that interstellar dust grains and\n",
       "their ice mantles play an important role in the production of complex organic\n",
       "molecules (COMs). To date, the most complex solid-phase molecule detected with\n",
       "certainty in the ISM is methanol, but the James Webb Space Telescope (JWST) may\n",
       "be able to identify still larger organic species. In this study, we use a\n",
       "coupled chemo-dynamical model to predict new candidate species for JWST\n",
       "detection toward the young star-forming core Cha-MMS1, combining the gas-grain\n",
       "chemical kinetic code MAGICKAL with a 1-D radiative hydrodynamics simulation\n",
       "using Athena++. With this model, the relative abundances of the main ice\n",
       "constituents with respect to water toward the core center match well with\n",
       "typical observational values, providing a firm basis to explore the ice\n",
       "chemistry. Six oxygen-bearing COMs (ethanol, dimethyl ether, acetaldehyde,\n",
       "methyl formate, methoxy methanol, and acetic acid), as well as formic acid,\n",
       "show abundances as high as, or exceeding, 0.01% with respect to water ice.\n",
       "Based on the modeled ice composition, the infrared spectrum is synthesized to\n",
       "diagnose the detectability of the new ice species. The contribution of COMs to\n",
       "IR absorption bands is minor compared to the main ice constituents, and the\n",
       "identification of COM ice toward the core center of Cha-MMS1 with the JWST\n",
       "NIRCAM/Wide Field Slitless Spectroscopy (2.4-5.0 micron) may be unlikely.\n",
       "However, MIRI observations (5-28 micron) toward COM-rich environments where\n",
       "solid-phase COM abundances exceed 1% with respect to the water ice column\n",
       "density might reveal the distinctive ice features of COMs.\n",
       "</td></tr><tr><td>2207.04483</td><td>  We present observations with the Cosmic Origins Spectrograph onboard the\n",
       "Hubble Space Telescope of seven compact low-mass star-forming galaxies at\n",
       "redshifts, z,in the range 0.3161-0.4276, with various O3Mg2=[OIII]5007/MgII\n",
       "2796+2803 and Mg2=MgII 2796/MgII 2803 emission-line ratios. We aim to study the\n",
       "dependence of leaking Lyman continuum (LyC) emission on the characteristics of\n",
       "MgII emission together with the dependences on other indirect indicators of\n",
       "escaping ionizing radiation. LyC emission with escape fractions\n",
       "fesc(LyC)=3.1-4.6 per cent is detected in four galaxies, whereas only 1sigma\n",
       "upper limits of fesc(LyC) in the remaining three galaxies were derived. A\n",
       "strong narrow Ly-alpha emission line with two peaks separated by Vsep~298-592\n",
       "km/s was observed in four galaxies with detected LyC emission and very weak\n",
       "Ly-alpha emission is observed in galaxies with LyC non-detections. Our new data\n",
       "confirm the tight anti-correlation between fesc(LyC) and Vsep found for\n",
       "previous low-redshift galaxy samples. Vsep remains the best indirect indicator\n",
       "of LyC leakage among all considered indicators. It is found that escaping LyC\n",
       "emission is detected predominantly in galaxies with Mg2>1.3. A tendency of an\n",
       "increase of fesc(LyC) with increasing of both the O3Mg2 and Mg2 is possibly\n",
       "present. However, there is substantial scatter in these relations not allowing\n",
       "their use for reliable prediction of fesc(LyC).\n",
       "</td></tr><tr><td>2207.04702</td><td>  After core hydrogen burning, massive stars evolve from blue-white dwarfs to\n",
       "red supergiants by expanding, brightening, and cooling within few millennia. We\n",
       "discuss a previously neglected constraint on mass, age, and evolutionary state\n",
       "of Betelgeuse and Antares, namely their observed colour evolution over\n",
       "historical times: We place all 236 stars bright enough for their colour to be\n",
       "discerned by the unaided eye (V$\\le$3.3 mag) on the colour-magnitude-diagram\n",
       "(CMD), and focus on those in the Hertzsprung gap. We study pre-telescopic\n",
       "records on star colour with historically-critical methods to find stars that\n",
       "have evolved noticeably in colour within the last millennia. Our main result is\n",
       "that Betelgeuse was recorded with a colour significantly different (non-red)\n",
       "than today (red, B$-$V=$1.78 \\pm 0.05$ mag). Hyginus (Rome) and Sima Qian\n",
       "(China) independently report it two millennia ago as appearing like Saturn\n",
       "(B$-$V=$1.09 \\pm 0.16$ mag) in colour and `yellow' (quantifiable as B$-$V=$0.95\n",
       "\\pm 0.35$ mag), respectively (together, 5.1$\\sigma$ different from today). The\n",
       "colour change of Betelgeuse is a new, tight constraint for single-star\n",
       "theoretical evolutionary models (or merger models). It is most likely located\n",
       "less than one millennium past the bottom of the red giant branch, before which\n",
       "rapid colour evolution is expected. Evolutionary tracks from MIST consistent\n",
       "with both its colour evolution and its location on the CMD suggest a mass of\n",
       "$\\sim$14M$_{\\odot}$ at $\\sim$14 Myr. The (roughly) constant colour of Antares\n",
       "for the last three millennia also constrains its mass and age. Wezen was\n",
       "reported white historically, but is now yellow.\n",
       "</td></tr><tr><td>2207.04754</td><td>  Image restoration under severe weather is a challenging task. Most of the\n",
       "past works focused on removing rain and haze phenomena in images. However, snow\n",
       "is also an extremely common atmospheric phenomenon that will seriously affect\n",
       "the performance of high-level computer vision tasks, such as object detection\n",
       "and semantic segmentation. Recently, some methods have been proposed for snow\n",
       "removing, and most methods deal with snow images directly as the optimization\n",
       "object. However, the distribution of snow location and shape is complex.\n",
       "Therefore, failure to detect snowflakes / snow streak effectively will affect\n",
       "snow removing and limit the model performance. To solve these issues, we\n",
       "propose a Snow Mask Guided Adaptive Residual Network (SMGARN). Specifically,\n",
       "SMGARN consists of three parts, Mask-Net, Guidance-Fusion Network (GF-Net), and\n",
       "Reconstruct-Net. Firstly, we build a Mask-Net with Self-pixel Attention (SA)\n",
       "and Cross-pixel Attention (CA) to capture the features of snowflakes and\n",
       "accurately localized the location of the snow, thus predicting an accurate snow\n",
       "mask. Secondly, the predicted snow mask is sent into the specially designed\n",
       "GF-Net to adaptively guide the model to remove snow. Finally, an efficient\n",
       "Reconstruct-Net is used to remove the veiling effect and correct the image to\n",
       "reconstruct the final snow-free image. Extensive experiments show that our\n",
       "SMGARN numerically outperforms all existing snow removal methods, and the\n",
       "reconstructed images are clearer in visual contrast. All codes will be\n",
       "available.\n",
       "</td></tr><tr><td>2207.04902</td><td>  The use of realistic mock galaxy catalogues is essential in the preparation\n",
       "of large galaxy surveys, in order to test and validate theoretical models and\n",
       "to assess systematics. We present an updated version of the mock catalogue\n",
       "constructed from the Millennium-XXL simulation, which uses a halo occupation\n",
       "distribution (HOD) method to assign galaxies r-band magnitudes and g-r colours.\n",
       "We have made several modifications to the mock to improve the agreement with\n",
       "measurements from the SDSS and GAMA surveys. We find that cubic interpolation,\n",
       "which was used to build the original halo lightcone, produces extreme\n",
       "velocities between snapshots. Using linear interpolation improves the\n",
       "correlation function quadrupole measurements on small scales. We also update\n",
       "the g-r colour distributions so that the observed colours better agree with\n",
       "measurements from GAMA data, particularly for faint galaxies. As an example of\n",
       "the science that can be done with the mock, we investigate how the luminosity\n",
       "function depends on environment and colour, and find good agreement with\n",
       "measurements from the GAMA survey. This full-sky mock catalogue is designed for\n",
       "the ongoing Dark Energy Spectroscopic Instrument (DESI) Bright Galaxy Survey\n",
       "(BGS), and is complete to a magnitude limit r=20.2.\n",
       "</td></tr></tbody></table></div>"
      ]
     },
     "metadata": {
      "application/vnd.databricks.v1+output": {
       "addedWidgets": {},
       "aggData": [],
       "aggError": "",
       "aggOverflow": false,
       "aggSchema": [],
       "aggSeriesLimitReached": false,
       "aggType": "",
       "arguments": {},
       "columnCustomDisplayInfos": {},
       "data": [
        [
         "2207.03898",
         "  Statistical classification of the Helios solar wind observations into several\npopulations sorted by bulk speed has revealed an outward acceleration of the\nwind. The faster the wind is, the smaller is this acceleration in the 0.3 - 1\nau radial range (Maksimovic et al. 2020). In this article we show that recent\nmeasurements from the Parker Solar Probe (PSP) are compatible with an extension\ncloser to the Sun of the latter Helios classification. For instance the well\nestablished bulk speed/proton temperature (u,Tp) correlation and bulk\nspeed/electron temperature (u,Te) anti-correlation, together with the\nacceleration of the slowest winds, are verified in PSP data. We also model the\ncombined PSP and Helios data, using empirical Parker-like models for which the\nsolar wind undergoes an \"iso-poly\" expansion: isothermal in the corona, then\npolytropic at distances larger than the sonic point radius. The polytropic\nindices are derived from the observed temperature and density gradients. Our\nmodelling reveals that the electron thermal pressure has a major contribution\nin the acceleration process of slow and intermediate winds (in the range of\n300-500 km/s at 1 au), over a broad range of distances and that the global\n(electron and protons) thermal energy, alone, is able to explain the\nacceleration profiles. Moreover, we show that the very slow solar wind requires\nin addition to the observed pressure gradients, another source of acceleration.\n"
        ],
        [
         "2207.03903",
         "  We report the discovery of five cyano derivatives of propene towards TMC-1\nwith the QUIJOTE line survey: $trans$ and $cis$-crotononitrile\n($t$-CH$_3$CHCHCN, $c$-CH$_3$CHCHCN), methacrylonitrile (CH$_2$C(CH$_3$)CN),\nand $gauche$ and $cis$-allyl cyanide ($g$-CH$_2$CHCH$_2$CN and\n$c$-CH$_2$CHCH$_2$CN). The observed transitions allowed us to derive a common\nrotational temperature of 7$\\pm$1 K for all them. The derived column densities\nare N($t$-CH$_3$CHCHCN)=(5$\\pm$0.5)$\\times$10$^{10}$ cm$^{-2}$,\nN($c$-CH$_3$CHCHCN)=(1.3$\\pm$0.2)$\\times$10$^{11}$ cm$^{-2}$,\nN(CH$_2$C(CH$_3$)CN)=(1.0$\\pm$0.1)$\\times$10$^{11}$ cm$^{-2}$,\nN($g$-CH$_2$CHCH$_2$CN)=(8.0$\\pm$0.8)$\\times$10$^{10}$ cm$^{-2}$, and\nN($c$-CH$_2$CHCH$_2$CN)=(7.0$\\pm$0.7)$\\times$10$^{10}$ cm$^{-2}$, respectively.\nThe abundance of cyano-propene relative to that of propene is thus\n$\\sim$10$^{-2}$, which is considerably lower than those of other cyano\nderivatives of abundant hydrocarbons. Upper limits are obtained for two ethynyl\nderivatives of propene ($E$ and $Z$-CH$_3$CHCHCCH).\n"
        ],
        [
         "2207.03968",
         "  We analyze the galaxy pairs in a set of volume limited samples from the SDSS\nto study the effects of minor interactions on the star formation rate (SFR) and\ncolour of galaxies. We carefully design control samples of the isolated\ngalaxies by matching the stellar mass and redshift of the minor pairs. The SFR\ndistributions and colour distributions in the minor pairs differ from their\ncontrols at $>99\\%$ significance level. We also simultaneously match the\ncontrol galaxies in stellar mass, redshift and local density to assess the role\nof the environment. The null hypothesis can be rejected at $>99\\%$ confidence\nlevel even after matching the environment. Our analysis shows a quenching in\nthe minor pairs where the degree of quenching decreases with the increasing\npair separation and plateaus beyond 50 kpc. We also prepare a sample of minor\npairs with $H_{\\alpha}$ line information. We calculate the SFR of these\ngalaxies using the $H_{\\alpha}$ line and repeat our analysis. We observe a\nquenching in the $H_{\\alpha}$ sample too. We find that the majority of the\nminor pairs are quiescent systems that could be quenched due to minor\ninteractions. Combining data from the Galaxy Zoo and Galaxy Zoo2, we find that\nonly $\\sim 1\\%$ galaxies have a dominant bulge, $4\\%-7\\%$ galaxies host a bar,\nand $5\\%-10\\%$ galaxies show the AGN activity in minor pairs. This indicates\nthat the presence of bulge, bar and AGN activity plays an insignificant role in\nquenching the galaxies in minor pairs. The more massive companion satisfies the\ncriteria for mass quenching in most of the minor pairs. We propose that the\nstripping and starvation likely caused the quenching in the less massive\ncompanion at a later stage of evolution.\n"
        ],
        [
         "2207.04039",
         "  The bias of dark matter halos and galaxies is a crucial quantity in many\ncosmological analyses. In this work, using large cosmological simulations, we\nexplore the halo mass function and halo bias within cosmic voids. For the first\ntime to date, we show that they are scale-dependent along the void profile, and\nprovide a predictive theoretical model of both the halo mass function and halo\nbias inside voids, recovering for the latter and 1% accuracy against simulated\ndata. These findings may help shed light on the dynamics of halo formation\nwithin voids and improve the analysis of several void statistics from ongoing\nand upcoming galaxy surveys.\n"
        ],
        [
         "2207.04210",
         "  Thanks to relatively firm mode identification, possible based on period\nratios only, High Amplitude Delta Scuti Stars pulsating in at least three\nradial modes are promising targets for asteroseismic inference. In this study\nwe used the most numerous sample of HADS from the OGLE inner bulge fields that\nlikely pulsate in either three or four radial modes simultaneously. We have\ncomputed a grid of pulsation models along evolutionary tracks and determined\nthe physical parameters of stars by matching their pulsation periods and period\nratios. For 176 HADS we determined physical parameters, i.e. masses,\nluminosities, effective temperatures, metallicities and ages. We present the\ndistribution of physical parameters and discuss their properties. We selected\n16 candidates for SX Phoenicis stars.\n"
        ],
        [
         "2207.04269",
         "  Chemical models and experiments indicate that interstellar dust grains and\ntheir ice mantles play an important role in the production of complex organic\nmolecules (COMs). To date, the most complex solid-phase molecule detected with\ncertainty in the ISM is methanol, but the James Webb Space Telescope (JWST) may\nbe able to identify still larger organic species. In this study, we use a\ncoupled chemo-dynamical model to predict new candidate species for JWST\ndetection toward the young star-forming core Cha-MMS1, combining the gas-grain\nchemical kinetic code MAGICKAL with a 1-D radiative hydrodynamics simulation\nusing Athena++. With this model, the relative abundances of the main ice\nconstituents with respect to water toward the core center match well with\ntypical observational values, providing a firm basis to explore the ice\nchemistry. Six oxygen-bearing COMs (ethanol, dimethyl ether, acetaldehyde,\nmethyl formate, methoxy methanol, and acetic acid), as well as formic acid,\nshow abundances as high as, or exceeding, 0.01% with respect to water ice.\nBased on the modeled ice composition, the infrared spectrum is synthesized to\ndiagnose the detectability of the new ice species. The contribution of COMs to\nIR absorption bands is minor compared to the main ice constituents, and the\nidentification of COM ice toward the core center of Cha-MMS1 with the JWST\nNIRCAM/Wide Field Slitless Spectroscopy (2.4-5.0 micron) may be unlikely.\nHowever, MIRI observations (5-28 micron) toward COM-rich environments where\nsolid-phase COM abundances exceed 1% with respect to the water ice column\ndensity might reveal the distinctive ice features of COMs.\n"
        ],
        [
         "2207.04483",
         "  We present observations with the Cosmic Origins Spectrograph onboard the\nHubble Space Telescope of seven compact low-mass star-forming galaxies at\nredshifts, z,in the range 0.3161-0.4276, with various O3Mg2=[OIII]5007/MgII\n2796+2803 and Mg2=MgII 2796/MgII 2803 emission-line ratios. We aim to study the\ndependence of leaking Lyman continuum (LyC) emission on the characteristics of\nMgII emission together with the dependences on other indirect indicators of\nescaping ionizing radiation. LyC emission with escape fractions\nfesc(LyC)=3.1-4.6 per cent is detected in four galaxies, whereas only 1sigma\nupper limits of fesc(LyC) in the remaining three galaxies were derived. A\nstrong narrow Ly-alpha emission line with two peaks separated by Vsep~298-592\nkm/s was observed in four galaxies with detected LyC emission and very weak\nLy-alpha emission is observed in galaxies with LyC non-detections. Our new data\nconfirm the tight anti-correlation between fesc(LyC) and Vsep found for\nprevious low-redshift galaxy samples. Vsep remains the best indirect indicator\nof LyC leakage among all considered indicators. It is found that escaping LyC\nemission is detected predominantly in galaxies with Mg2>1.3. A tendency of an\nincrease of fesc(LyC) with increasing of both the O3Mg2 and Mg2 is possibly\npresent. However, there is substantial scatter in these relations not allowing\ntheir use for reliable prediction of fesc(LyC).\n"
        ],
        [
         "2207.04702",
         "  After core hydrogen burning, massive stars evolve from blue-white dwarfs to\nred supergiants by expanding, brightening, and cooling within few millennia. We\ndiscuss a previously neglected constraint on mass, age, and evolutionary state\nof Betelgeuse and Antares, namely their observed colour evolution over\nhistorical times: We place all 236 stars bright enough for their colour to be\ndiscerned by the unaided eye (V$\\le$3.3 mag) on the colour-magnitude-diagram\n(CMD), and focus on those in the Hertzsprung gap. We study pre-telescopic\nrecords on star colour with historically-critical methods to find stars that\nhave evolved noticeably in colour within the last millennia. Our main result is\nthat Betelgeuse was recorded with a colour significantly different (non-red)\nthan today (red, B$-$V=$1.78 \\pm 0.05$ mag). Hyginus (Rome) and Sima Qian\n(China) independently report it two millennia ago as appearing like Saturn\n(B$-$V=$1.09 \\pm 0.16$ mag) in colour and `yellow' (quantifiable as B$-$V=$0.95\n\\pm 0.35$ mag), respectively (together, 5.1$\\sigma$ different from today). The\ncolour change of Betelgeuse is a new, tight constraint for single-star\ntheoretical evolutionary models (or merger models). It is most likely located\nless than one millennium past the bottom of the red giant branch, before which\nrapid colour evolution is expected. Evolutionary tracks from MIST consistent\nwith both its colour evolution and its location on the CMD suggest a mass of\n$\\sim$14M$_{\\odot}$ at $\\sim$14 Myr. The (roughly) constant colour of Antares\nfor the last three millennia also constrains its mass and age. Wezen was\nreported white historically, but is now yellow.\n"
        ],
        [
         "2207.04754",
         "  Image restoration under severe weather is a challenging task. Most of the\npast works focused on removing rain and haze phenomena in images. However, snow\nis also an extremely common atmospheric phenomenon that will seriously affect\nthe performance of high-level computer vision tasks, such as object detection\nand semantic segmentation. Recently, some methods have been proposed for snow\nremoving, and most methods deal with snow images directly as the optimization\nobject. However, the distribution of snow location and shape is complex.\nTherefore, failure to detect snowflakes / snow streak effectively will affect\nsnow removing and limit the model performance. To solve these issues, we\npropose a Snow Mask Guided Adaptive Residual Network (SMGARN). Specifically,\nSMGARN consists of three parts, Mask-Net, Guidance-Fusion Network (GF-Net), and\nReconstruct-Net. Firstly, we build a Mask-Net with Self-pixel Attention (SA)\nand Cross-pixel Attention (CA) to capture the features of snowflakes and\naccurately localized the location of the snow, thus predicting an accurate snow\nmask. Secondly, the predicted snow mask is sent into the specially designed\nGF-Net to adaptively guide the model to remove snow. Finally, an efficient\nReconstruct-Net is used to remove the veiling effect and correct the image to\nreconstruct the final snow-free image. Extensive experiments show that our\nSMGARN numerically outperforms all existing snow removal methods, and the\nreconstructed images are clearer in visual contrast. All codes will be\navailable.\n"
        ],
        [
         "2207.04902",
         "  The use of realistic mock galaxy catalogues is essential in the preparation\nof large galaxy surveys, in order to test and validate theoretical models and\nto assess systematics. We present an updated version of the mock catalogue\nconstructed from the Millennium-XXL simulation, which uses a halo occupation\ndistribution (HOD) method to assign galaxies r-band magnitudes and g-r colours.\nWe have made several modifications to the mock to improve the agreement with\nmeasurements from the SDSS and GAMA surveys. We find that cubic interpolation,\nwhich was used to build the original halo lightcone, produces extreme\nvelocities between snapshots. Using linear interpolation improves the\ncorrelation function quadrupole measurements on small scales. We also update\nthe g-r colour distributions so that the observed colours better agree with\nmeasurements from GAMA data, particularly for faint galaxies. As an example of\nthe science that can be done with the mock, we investigate how the luminosity\nfunction depends on environment and colour, and find good agreement with\nmeasurements from the GAMA survey. This full-sky mock catalogue is designed for\nthe ongoing Dark Energy Spectroscopic Instrument (DESI) Bright Galaxy Survey\n(BGS), and is complete to a magnitude limit r=20.2.\n"
        ]
       ],
       "datasetInfos": [],
       "dbfsResultPath": null,
       "isJsonSchema": true,
       "metadata": {},
       "overflow": false,
       "plotOptions": {
        "customPlotOptions": {},
        "displayType": "table",
        "pivotAggregation": null,
        "pivotColumns": null,
        "xColumns": null,
        "yColumns": null
       },
       "removedWidgets": [],
       "schema": [
        {
         "metadata": "{}",
         "name": "id",
         "type": "\"string\""
        },
        {
         "metadata": "{}",
         "name": "abstract",
         "type": "\"string\""
        }
       ],
       "type": "table"
      }
     },
     "output_type": "display_data"
    }
   ],
   "source": [
    "similar_df = spark.sql('select id, abstract from main.default.ARXIV_ANALYSIS where prediction == 5')\n",
    "display(similar_df.limit(10))"
   ]
  },
  {
   "cell_type": "markdown",
   "metadata": {
    "application/vnd.databricks.v1+cell": {
     "cellMetadata": {},
     "inputWidgets": {},
     "nuid": "95ab6349-4854-416b-b1d3-d9282a90f6d5",
     "showTitle": false,
     "title": ""
    }
   },
   "source": [
    "\n",
    "Looking at the results, we can see that the test abstract does fit into this category quite well. There's references to astronomical phenomena and astrophysics.\n",
    "\n",
    "However, there are some chemistry papers also in the same category 5. So the categories are not perfectly separated."
   ]
  },
  {
   "cell_type": "code",
   "execution_count": 0,
   "metadata": {
    "application/vnd.databricks.v1+cell": {
     "cellMetadata": {},
     "inputWidgets": {},
     "nuid": "e3e22bb1-73d7-4647-adb1-c516cf04e503",
     "showTitle": false,
     "title": ""
    }
   },
   "outputs": [],
   "source": []
  }
 ],
 "metadata": {
  "application/vnd.databricks.v1+notebook": {
   "dashboards": [],
   "language": "python",
   "notebookMetadata": {
    "pythonIndentUnit": 4
   },
   "notebookName": "nlp_arxiv_notebook",
   "widgets": {}
  }
 },
 "nbformat": 4,
 "nbformat_minor": 0
}
