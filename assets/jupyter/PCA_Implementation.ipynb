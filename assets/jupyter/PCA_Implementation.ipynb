{
 "cells": [
  {
   "cell_type": "markdown",
   "metadata": {},
   "source": [
    "# PCA Implementation"
   ]
  },
  {
   "cell_type": "markdown",
   "metadata": {},
   "source": [
    "### Objective\n",
    "\n",
    "The objective of this notebook is to create own Python implementation for calculating PCA.\n",
    "\n",
    "### Tools\n",
    "\n",
    "We use **Numpy** for handling matrices and vectors but we do not use it to compute anything directly. The objective of this notebook is for me to explore how PCA works by implementing it on my own.\n",
    "\n",
    "We also use **matplotlib** for creating simple plots.\n",
    "\n",
    "### Resources\n",
    "\n",
    "* http://madrury.github.io/jekyll/update/statistics/2017/10/04/qr-algorithm.html\n",
    "\n",
    "### PCA\n",
    "\n",
    "We can achieve PCA by forming an eigenvalue decomposition of the data matrix $X^TX$ (normalized means).\n",
    "\n",
    "#### Calculation pipeline\n",
    "\n",
    "The pipeline for calculating the eigenvalue decomposition:\n",
    "\n",
    "Let original data be $D \\in {\\rm I\\!R}^{n \\times p}$\n",
    "\n",
    "0. $X = D - \\overline{D} \\rightarrow A = X^TX$ \n",
    "1. $A = QR$ decomposition (GS -process)\n",
    "3. Obtain Eigenvectors of $A$"
   ]
  },
  {
   "cell_type": "code",
   "execution_count": 11,
   "metadata": {},
   "outputs": [],
   "source": [
    "# Imports\n",
    "import numpy as np\n",
    "import matplotlib.pyplot as plt"
   ]
  },
  {
   "cell_type": "code",
   "execution_count": 12,
   "metadata": {},
   "outputs": [],
   "source": [
    "# First step: Normalize with mean row\n",
    "def normalize(data_matrix):\n",
    "    mean_row = np.mean(data_matrix, axis=0)\n",
    "    mean_matrix = np.array([mean_row for _ in range(len(data_matrix))])\n",
    "    normalized_matrix = data_matrix - mean_matrix\n",
    "    return normalized_matrix"
   ]
  },
  {
   "cell_type": "code",
   "execution_count": 13,
   "metadata": {},
   "outputs": [],
   "source": [
    "# The second step: Function for calculating QR decompositions using the GS-process\n",
    "# This function is used in iteration for the 3rd step.\n",
    "def GSProcess(A):\n",
    "    T = A.T\n",
    "    u_vectors = []\n",
    "    e_vectors = []\n",
    "    def projection(index, a_index):\n",
    "        u = u_vectors[index]\n",
    "        a = T[a_index]\n",
    "        c = np.dot(u, a) / np.dot(u, u)\n",
    "        return c * u\n",
    "    \n",
    "    for k in range(len(T)):\n",
    "        vector_sum = [projection(index, k) for index in range(0, k)]\n",
    "        new_vector = T[k] - sum(vector_sum)\n",
    "        u_vectors.append(new_vector)\n",
    "        e_vectors.append(new_vector / np.linalg.norm(new_vector))\n",
    "    return np.array(e_vectors).T"
   ]
  },
  {
   "cell_type": "code",
   "execution_count": 14,
   "metadata": {},
   "outputs": [],
   "source": [
    "# Third step: Schur decomposition by iterating the GSProcess\n",
    "# Returns eigenvector matrix and eigenvalue diagonal matrix\n",
    "def Schur(A, steps=100):\n",
    "    current_a = A\n",
    "    current_q = np.eye(len(A))\n",
    "    improvement = 100\n",
    "    counter = 0\n",
    "    th = 0.01\n",
    "    while improvement > th and counter < steps:\n",
    "        Q = GSProcess(current_a)\n",
    "        new_a = Q.T @ (current_a @ Q)\n",
    "        current_a = new_a\n",
    "        new_q = current_q @ Q if current_q is not None else Q\n",
    "        improvement = np.linalg.norm(current_q - new_q)\n",
    "        current_q = new_q\n",
    "        counter = counter + 1\n",
    "    return (current_q, current_a)"
   ]
  },
  {
   "cell_type": "code",
   "execution_count": 15,
   "metadata": {},
   "outputs": [],
   "source": [
    "# 4th step: Get the transformed data\n",
    "def PCA(data_matrix, num_dimensions=None):\n",
    "    normalized_matrix = normalize(data_matrix)\n",
    "    A = normalized_matrix.T @ normalized_matrix\n",
    "    eigenvectors, value_matrix = Schur(A)\n",
    "    eigenvalues = np.array([value_matrix[i][i] for i in range(len(value_matrix))])\n",
    "    Q, V = np.linalg.eig(A)\n",
    "    sorted_eigenvalue_indices = np.argsort(-eigenvalues)\n",
    "    if num_dimensions is not None:\n",
    "        top_eigenvalues = sorted_eigenvalue_indices[:num_dimensions]\n",
    "        used_eigenvalues = np.array([eigenvalues[i] for i in top_eigenvalues])\n",
    "        W = np.array([eigenvectors.T[i] for i in top_eigenvalues]).T\n",
    "    else:\n",
    "        W = np.array(eigenvectors.T)\n",
    "    T = normalized_matrix @ W\n",
    "    return T, normalized_matrix, used_eigenvalues, eigenvalues"
   ]
  },
  {
   "cell_type": "markdown",
   "metadata": {},
   "source": [
    "### Iris dataset test"
   ]
  },
  {
   "cell_type": "code",
   "execution_count": 16,
   "metadata": {},
   "outputs": [],
   "source": [
    "filename = \"iris_data.csv\"\n",
    "rows = []\n",
    "labels = []\n",
    "with open(filename) as f:\n",
    "    for row in f:\n",
    "        parts = [el.strip() for el in row.split(\"\\t\")]\n",
    "        if len(parts) == 5:\n",
    "            parsed = list(map(lambda x: float(x), parts))\n",
    "            rows.append(parsed[:4])\n",
    "            labels.append(parts[4])"
   ]
  },
  {
   "cell_type": "code",
   "execution_count": 17,
   "metadata": {},
   "outputs": [],
   "source": [
    "transformed, n, used_eigenvalues, all_eigenvalues = PCA(rows, 2)\n",
    "sections = {}\n",
    "current_section = labels[0]\n",
    "for i, element in enumerate(transformed):\n",
    "    l = int(labels[i])\n",
    "    if l not in sections:\n",
    "        sections[l] = [element]\n",
    "    else:\n",
    "        sections[l].append(element)"
   ]
  },
  {
   "cell_type": "code",
   "execution_count": 18,
   "metadata": {
    "scrolled": true
   },
   "outputs": [
    {
     "data": {
      "image/png": "[encoded data removed]",
      "text/plain": [
       "<Figure size 432x288 with 1 Axes>"
      ]
     },
     "metadata": {
      "needs_background": "light"
     },
     "output_type": "display_data"
    }
   ],
   "source": [
    "section_colors = [\"red\", \"blue\", \"green\"]\n",
    "\n",
    "for section_key in sections.keys():\n",
    "    section_elements = np.array(sections[section_key])\n",
    "    plt.scatter(section_elements.T[0], section_elements.T[1], c=section_colors[section_key])\n",
    "\n",
    "plt.xlabel(\"PC1\")\n",
    "plt.ylabel(\"PC2\")\n",
    "plt.show()"
   ]
  },
  {
   "cell_type": "markdown",
   "metadata": {},
   "source": [
    "### Total variance\n",
    "\n",
    "Total variance proportion \"explained\" by $k$ principal components:\n",
    "\n",
    "$$ \\text{Var}_{pc} = \\frac{\\sum_{i=1}^{k} \\lambda_{i}}{\\sum_{i=1}^{p} \\lambda_{i}}$$\n",
    "\n",
    "$\\lambda_{i}$ is eigenvalue of of $A = X^TX$"
   ]
  },
  {
   "cell_type": "code",
   "execution_count": 19,
   "metadata": {},
   "outputs": [],
   "source": [
    "total_variance = sum(used_eigenvalues) / sum(all_eigenvalues)"
   ]
  },
  {
   "cell_type": "code",
   "execution_count": 20,
   "metadata": {},
   "outputs": [
    {
     "data": {
      "text/plain": [
       "0.9776316470429075"
      ]
     },
     "execution_count": 20,
     "metadata": {},
     "output_type": "execute_result"
    }
   ],
   "source": [
    "total_variance"
   ]
  }
 ],
 "metadata": {
  "kernelspec": {
   "display_name": "Python 3",
   "language": "python",
   "name": "python3"
  },
  "language_info": {
   "codemirror_mode": {
    "name": "ipython",
    "version": 3
   },
   "file_extension": ".py",
   "mimetype": "text/x-python",
   "name": "python",
   "nbconvert_exporter": "python",
   "pygments_lexer": "ipython3",
   "version": "3.8.2"
  }
 },
 "nbformat": 4,
 "nbformat_minor": 4
}
